{
 "cells": [
  {
   "cell_type": "markdown",
   "metadata": {},
   "source": [
    "# Quickstart\n",
    "A few examples are given for calculating the steady-state probability distribution for master equations with finite states analytically (compared to a Gillespie simulation).\n",
    "Furthermore, this notebook shows how to calculate the entropy production (analytical mean and simulated distribution).\n",
    "For the molecular motor (parametrisation by Liepelt and Lipowsky 2007), the steady-state probability and entropy production are calculated. Distributions for the velocity and the entropy production of this systems are calculated from simulatios.\n"
   ]
  },
  {
   "cell_type": "code",
   "execution_count": 1,
   "metadata": {},
   "outputs": [
    {
     "name": "stdout",
     "output_type": "stream",
     "text": [
      "['Steady_State_Calculation_Spanning_Trees.py', 'Kinesin_Parameters.py', 'Analytic_Quantities.py', 'PDF_Flux_entropy.py', 'Bib3_version4b.py', '__pycache__']\n"
     ]
    }
   ],
   "source": [
    "import numpy as np\n",
    "\n",
    "from matplotlib import pyplot as plt\n",
    "import math\n",
    "\n",
    "import time\n",
    "import random\n",
    "import networkx as nx\n",
    "import os\n",
    "\n",
    "import sys\n",
    "path='Bibliotheken/'\n",
    "res2 = os.listdir(path)\n",
    "print(res2)\n",
    "sys.path.append(path)\n",
    "\n",
    "import Steady_State_Calculation_Spanning_Trees as auto\n",
    "import Kinesin_Parameters as Kinesin\n",
    "import PDF_Flux_entropy as PDF\n",
    "import Analytic_Quantities as analytic"
   ]
  },
  {
   "cell_type": "markdown",
   "metadata": {},
   "source": [
    "# steady-state probability distribution\n",
    "\n",
    "We consider discrete stochastic systems described by a master equation. The system has N discrete states and tran-\n",
    "sition between states i and j occur with time-independent transition rates $a_{ij}$. At a certain time t, a state i is occupied with probability $p_i(t)$ which evolves according to a master equation.\n",
    "We can calculate the steady-state by representing the states and transitions as the nodes and edges of a graph (Schnakenberg 1976).\n",
    "\n",
    "Here, we consider a matrix $A$ with entries $a_{ij}$ as rates for transition $i \\rightarrow j$. The diagonal elements $a_{ii}$ are zero. The example system has 4 states. The first 3 form a 3-state cycle. The 4th state is connected via a bridge to the the 3rd state.\n",
    "\n",
    "We use the library \"Steady_State_Calculation_Spanning_Trees\" to transform the adjacency matrix $A$ into a corresponding Graph $G$. The function \"steady_state\" calculates the steady-state by calculating the \"weight\" of all spanning trees. For large systems, calculating all spanning trees is expensive."
   ]
  },
  {
   "cell_type": "code",
   "execution_count": 2,
   "metadata": {},
   "outputs": [
    {
     "name": "stdout",
     "output_type": "stream",
     "text": [
      "A = \n",
      " [[0 1 1 0]\n",
      " [1 0 1 0]\n",
      " [1 1 0 1]\n",
      " [0 0 1 0]]\n",
      "steady state p =  [0.25 0.25 0.25 0.25]\n"
     ]
    }
   ],
   "source": [
    "A = np.array([[0,1,1,0], [1,0,1,0], [1,1,0,1], [0,0,1,0]])\n",
    "print('A = \\n', A)\n",
    "G=auto.Matrix2Graph(A)\n",
    "p=auto.steady_state(G)\n",
    "print('steady state p = ',p)"
   ]
  },
  {
   "cell_type": "markdown",
   "metadata": {},
   "source": [
    "All transition rates are equal in the example above. All fluxes are zero (detailed balance) and hence the system is in equilibrium. \n",
    "\n",
    "We now change the transition rates such that the system is in an non-equilibirium steady-state."
   ]
  },
  {
   "cell_type": "code",
   "execution_count": 3,
   "metadata": {},
   "outputs": [
    {
     "name": "stdout",
     "output_type": "stream",
     "text": [
      "A = \n",
      " [[0.  2.  3.  0. ]\n",
      " [0.5 0.  0.1 0. ]\n",
      " [1.  1.  0.  0.5]\n",
      " [0.  0.  1.  0. ]]\n",
      "steady state p =  [0.0990991  0.63063063 0.18018018 0.09009009]\n"
     ]
    }
   ],
   "source": [
    "A = np.array([[0,2,3,0], [0.5,0,0.1,0], [1,1,0,0.5], [0,0,1,0]])\n",
    "print('A = \\n', A)\n",
    "G = auto.Matrix2Graph(A)\n",
    "p = auto.steady_state(G)\n",
    "print('steady state p = ',p)"
   ]
  },
  {
   "cell_type": "markdown",
   "metadata": {},
   "source": [
    "# Entropy production\n",
    "All nonzero fluxes are associated with the production of entropy. The total entropy production $P$ can be expressed in terms of the net-transition fluxes $J_{ij}$ and the corresponding transition affinities $\\Delta S_{ij}$. The transition affinity quantifies the change of entropy associated with a transition.\n",
    "The entropy production can be used to quantify the deviation from detailed balance for nonequilibrium systems."
   ]
  },
  {
   "cell_type": "code",
   "execution_count": 4,
   "metadata": {},
   "outputs": [
    {
     "name": "stdout",
     "output_type": "stream",
     "text": [
      "P1=dS/dt= -1.249000902703301e-16\n",
      "P2(copling to set of thermodynamic forces)= 0.2359796330364816\n",
      "Entropy production P = 0.23597963303648145\n"
     ]
    }
   ],
   "source": [
    "P = analytic.entropyProduction(matrix=A, p=p)\n",
    "print('Entropy production P =',P)"
   ]
  },
  {
   "cell_type": "markdown",
   "metadata": {},
   "source": [
    "# Molecular motor kinesin - parametrisation\n",
    "\n",
    "Kinesin is a motor protein with two heads which can carry cargo, moves along microtubule filaments, and is powered\n",
    "by the hydrolysis of adenosine triphosphate (ATP).Kinesin can be described by a six-states network. The six states correspond to different chemical states of the two motor heads (ATP or ADP bound or free). Transition 2 → 5 corresponds to a mechanical forward step, the backward transition 5 → 2 to a backward step (see Liepelt and Lipowsky (2007) for more information)."
   ]
  },
  {
   "cell_type": "code",
   "execution_count": 5,
   "metadata": {},
   "outputs": [
    {
     "name": "stdout",
     "output_type": "stream",
     "text": [
      "Adjacency matrix for kinesin motor A = \n",
      " [[0.00000000e+00 1.35914641e+00 0.00000000e+00 0.00000000e+00\n",
      "  0.00000000e+00 1.90008325e-02]\n",
      " [7.55081338e+01 0.00000000e+00 1.90008325e+02 0.00000000e+00\n",
      "  1.64643491e+05 0.00000000e+00]\n",
      " [0.00000000e+00 8.55037463e-02 0.00000000e+00 1.90008325e+02\n",
      "  0.00000000e+00 0.00000000e+00]\n",
      " [0.00000000e+00 0.00000000e+00 1.90008325e-02 0.00000000e+00\n",
      "  1.35914641e+00 0.00000000e+00]\n",
      " [0.00000000e+00 9.73247992e-01 0.00000000e+00 4.83252056e-11\n",
      "  0.00000000e+00 1.90008325e+02]\n",
      " [1.90008325e+02 0.00000000e+00 0.00000000e+00 0.00000000e+00\n",
      "  8.55037463e-02 0.00000000e+00]]\n",
      "steady state p = [9.84661814e-01 8.15695405e-06 8.26721580e-06 1.13982003e-03\n",
      " 7.04334417e-03 7.13859798e-03]\n"
     ]
    }
   ],
   "source": [
    "[w, w1]=Kinesin.Kinesin(force=1.e-12)\n",
    "G=auto.Matrix2Graph(w)\n",
    "p=auto.steady_state(G)\n",
    "print('Adjacency matrix for kinesin motor A = \\n', w)\n",
    "print('steady state p =',p)"
   ]
  },
  {
   "cell_type": "markdown",
   "metadata": {},
   "source": [
    "# Gillespie simulations\n",
    "Trajectories can be simulated with a Gillespie algorithm. Relaxation into the steady state or dwell time distributions can be investigated. The exit rate $\\lambda_i$ is the sum over all outgoing rates from state $i$. \n",
    "First, the exponentially distributed dwell time will be simulated by drawing a random variable $z_1$ from a uniform distribution between zero and one. The transformation \n",
    "\\begin{align}\n",
    "dt=-\\dfrac{1}{\\lambda_i}\\ln (z_1) \n",
    "\\end{align}\n",
    "yields the waiting time in state $i$ before the next transition.\n",
    "To determine which transition will happen, one draws another random variable $z_2$ and checks in which interval $z_2$ falls, where\n",
    "\\begin{align}\n",
    "I_j=\\left[ \\dfrac{1}{\\lambda_i}\\sum_{k=0}^{j-1} a_{ik} ,\\dfrac{1}{ \\lambda_i}\\sum_{k=0}^{j} a_{ik} \\right).\n",
    "\\end{align}\n",
    "If $z_2 \\in I_j$ the transition from state $i$ to state $j$ will be simulated."
   ]
  },
  {
   "cell_type": "code",
   "execution_count": 6,
   "metadata": {},
   "outputs": [
    {
     "name": "stdout",
     "output_type": "stream",
     "text": [
      "simulated probability for Kinesin system,  p =  [9.85350476e-01 8.27672368e-06 7.21214023e-06 4.01632436e-04\n",
      " 7.07503075e-03 7.18484734e-03]\n"
     ]
    }
   ],
   "source": [
    "# Relaxation into steady state for large T\n",
    "p_sim = PDF.simulation_prob(matrix=w, startState=1, T=10000)\n",
    "print('simulated probability for Kinesin system,  p = ', p_sim)"
   ]
  },
  {
   "cell_type": "markdown",
   "metadata": {},
   "source": [
    "# Distribution of entropy production\n",
    "See FIG4_Distribution_Entropy_Prod_Velocity.ipynb for more\n",
    "\n",
    "We consider the distribution for the entropy production for trajectories of length 1200\\,s. For a trajectory of duration $\\tau$ with $m$ transitions $n_0\\rightarrow n_1 \\rightarrow ... \\rightarrow n_{m-1} \\rightarrow n_m$ we consider the quantity \n",
    "\\begin{align}\n",
    "P_{\\tau}=\\dfrac{k_B}{\\tau}\\ln \\dfrac{\\alpha_{ n_1}\\alpha_{ n_2} ...\\alpha _{n_{m-1}n_m}}{\\alpha _{n_1 n_0}\\alpha _{n_2 n_1} ...\\alpha _{n_{m}n_{m-1}} }\n",
    "\\label{eq:entropy_prod_trajectory}\n",
    "\\end{align}\n",
    "as entropy production as proposed by Lebowitz and Spohn."
   ]
  },
  {
   "cell_type": "code",
   "execution_count": 7,
   "metadata": {},
   "outputs": [
    {
     "name": "stdout",
     "output_type": "stream",
     "text": [
      "--- 335.2091510295868 seconds ---\n"
     ]
    }
   ],
   "source": [
    "runtime = 1200.0 # for each trajectory\n",
    "Trajectories = 10000\n",
    "start_time = time.time()\n",
    "# simulate certain number of trajectories for certain time and determine the entropy production of every run\n",
    "vec = PDF.pdf_entropy(Matrix=w, start=0, time=runtime, runs=Trajectories)\n",
    "print(\"--- %s seconds ---\" % (time.time() - start_time))"
   ]
  },
  {
   "cell_type": "code",
   "execution_count": 8,
   "metadata": {},
   "outputs": [
    {
     "name": "stdout",
     "output_type": "stream",
     "text": [
      "maximum and minimum value of simulated entropy production\n",
      "[36.745119778508, 30.51065129466717]\n"
     ]
    },
    {
     "data": {
      "image/png": "[encoded data removed]",
      "text/plain": [
       "<Figure size 432x288 with 1 Axes>"
      ]
     },
     "metadata": {
      "needs_background": "light"
     },
     "output_type": "display_data"
    }
   ],
   "source": [
    "vec = np.array(vec)\n",
    "MAX = np.max(vec)\n",
    "MIN = np.min(vec)\n",
    "print('maximum and minimum value of simulated entropy production')\n",
    "print([MAX, MIN])\n",
    "# histrogram\n",
    "[hist, bin_edges] = np.histogram(vec, density=True, bins=20)\n",
    "\n",
    "# plot histogram\n",
    "f_size = 18\n",
    "fig, ax = plt.subplots()\n",
    "ax.plot(bin_edges[:-1], hist, '-ok', color='black', label='6-state model kinesin')\n",
    "ax.set_xlabel('Entropy production [$k_B$/$s$]', fontsize=f_size)\n",
    "ax.set_ylabel('pdf', fontsize=f_size)\n",
    "ax.tick_params(axis='both', labelsize=f_size)\n",
    "ax.legend(prop={'size': 14})\n",
    "fig.tight_layout()\n",
    "plt.show()"
   ]
  },
  {
   "cell_type": "markdown",
   "metadata": {},
   "source": [
    "# Distribution of velocity\n",
    "See FIG4_Distribution_Entropy_Prod_Velocity.ipynb for more\n",
    "\n",
    "We consider the velocity distribution for the 6-state model obtained from 10000 trajectories with simulation time 1200\\,s. The velocity of the motor is proportional to the flux between states 2 and 5 and is given by\n",
    "\\begin{align}\n",
    "    v = l J_{25},\n",
    "\\end{align}\n",
    "where $l$ is the step size of the motor.\n",
    "The variance of the velocity decreases for longer trajectories. "
   ]
  },
  {
   "cell_type": "code",
   "execution_count": 34,
   "metadata": {},
   "outputs": [
    {
     "name": "stdout",
     "output_type": "stream",
     "text": [
      "--- 270.3273320198059 seconds ---\n"
     ]
    }
   ],
   "source": [
    "runtime = 1200.0 # for each trajectory\n",
    "Trajectories = 10000 # number of trajectories to simulate\n",
    "i = 1 #python starts counting with 0, and the Kinesins model starts with 1\n",
    "node1 = 2-i\n",
    "node2 = 5-i\n",
    "start_time = time.time()\n",
    "# simulate certain number of trajectories for certain time and determine the entropy production of every run\n",
    "[totalcounts, counts12, counts21, netcounts] = PDF.pdf_transition(Matrix=w, start=0, time=runtime, runs=Trajectories, state1=node1, state2=node2)\n",
    "vec2 = np.array(netcounts)\n",
    "print(\"--- %s seconds ---\" % (time.time() - start_time))"
   ]
  },
  {
   "cell_type": "code",
   "execution_count": 37,
   "metadata": {},
   "outputs": [
    {
     "name": "stdout",
     "output_type": "stream",
     "text": [
      "maximum and minimum value of simulated entropy production\n",
      "[1.4533333333333334, 1.2166666666666666]\n"
     ]
    },
    {
     "data": {
      "image/png": "[encoded data removed]",
      "text/plain": [
       "<Figure size 432x288 with 1 Axes>"
      ]
     },
     "metadata": {
      "needs_background": "light"
     },
     "output_type": "display_data"
    }
   ],
   "source": [
    "vec2 = np.array(vec2)\n",
    "MAX = np.max(vec2)\n",
    "MIN = np.min(vec2)\n",
    "print('maximum and minimum value of simulated entropy production')\n",
    "print([MAX, MIN])\n",
    "# histrogram\n",
    "[hist2, bin_edges2] = np.histogram(vec2, density=True, bins=20)\n",
    "\n",
    "l = 8 # stepsize of kinesin motor in nm\n",
    "# plot histogram\n",
    "f_size = 18\n",
    "fig, ax = plt.subplots()\n",
    "ax.plot(l*np.array(bin_edges2[:-1]), hist2, '-ok', color='black', label='6-state model kinesin')\n",
    "ax.set_xlabel('Velocity [nm/s]', fontsize=f_size)\n",
    "ax.set_ylabel('pdf', fontsize=f_size)\n",
    "ax.tick_params(axis='both', labelsize=f_size)\n",
    "ax.legend(prop={'size': 14})\n",
    "fig.tight_layout()\n",
    "plt.show()"
   ]
  },
  {
   "cell_type": "code",
   "execution_count": null,
   "metadata": {},
   "outputs": [],
   "source": []
  }
 ],
 "metadata": {
  "kernelspec": {
   "display_name": "Python 3",
   "language": "python",
   "name": "python3"
  },
  "language_info": {
   "codemirror_mode": {
    "name": "ipython",
    "version": 3
   },
   "file_extension": ".py",
   "mimetype": "text/x-python",
   "name": "python",
   "nbconvert_exporter": "python",
   "pygments_lexer": "ipython3",
   "version": "3.8.5"
  }
 },
 "nbformat": 4,
 "nbformat_minor": 4
}
