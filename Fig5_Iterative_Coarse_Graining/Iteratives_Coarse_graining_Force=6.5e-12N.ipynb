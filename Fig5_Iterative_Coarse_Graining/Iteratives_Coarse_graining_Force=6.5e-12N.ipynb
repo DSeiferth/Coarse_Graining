{
 "cells": [
  {
   "cell_type": "markdown",
   "metadata": {},
   "source": [
    "# Different levels of coarse-grained models for an external load force smaller than the stall force\n",
    "\n",
    "With an increasing external load force, the mean velocity of the molecular motor decreases and the forward cycle becomes less dominant in terms of entropy production.\n",
    "We consider a kinesin motor at an external load force of 6.5 pN, which is a substantial force, but smaller\n",
    "than the stall force. The mechanical transition 2 → 5 has the\n",
    "smallest contribution to the steady-state entropy production.\n",
    "We do not merge states 2 and 5 to preserve the biological interpretation of mechanical steps."
   ]
  },
  {
   "cell_type": "code",
   "execution_count": 7,
   "metadata": {},
   "outputs": [],
   "source": [
    "import numpy as np\n",
    "\n",
    "from matplotlib import pyplot as plt\n",
    "import math\n",
    "\n",
    "import time\n",
    "import random\n",
    "import networkx as nx\n",
    "import os\n",
    "\n",
    "import sys\n",
    "path='../Bibliotheken/'\n",
    "sys.path.append(path)\n",
    "\n",
    "import Steady_State_Calculation_Spanning_Trees as auto\n",
    "import Kinesin_Parameters as Kinesin\n",
    "import PDF_Flux_entropy as PDF"
   ]
  },
  {
   "cell_type": "code",
   "execution_count": 8,
   "metadata": {},
   "outputs": [],
   "source": [
    "Force=6.5e-12\n",
    "i=1"
   ]
  },
  {
   "cell_type": "code",
   "execution_count": 9,
   "metadata": {},
   "outputs": [],
   "source": [
    "def entropyProduction(matrix, p):\n",
    "    P1=0.\n",
    "    P2=0.\n",
    "    N=len(matrix)\n",
    "    #J=CG.NetFlux(matrix,p)\n",
    "    for i in range(N):\n",
    "        for j in range(N):\n",
    "            P1=P1+(matrix[j][i]*p[j]-matrix[i][j]*p[i])*math.log(p[j]/p[i])\n",
    "            if matrix[i][j]!=0:\n",
    "                P2=P2+((matrix[j][i]*p[j]-matrix[i][j]*p[i]))*math.log(matrix[j][i]/matrix[i][j])\n",
    "    P1=0.5*P1\n",
    "    P2=0.5*P2\n",
    "    print('P1=dS/dt= '+str(P1))\n",
    "    print('P2(copling to set of thermodynamic forces)= '+str(P2))\n",
    "    return P1+P2\n",
    "\n",
    "def affinity(matrix, p, state1, state2):\n",
    "    return np.log(matrix[state1][state2]*p[state1])-np.log(matrix[state2][state1]*p[state2])\n",
    "    "
   ]
  },
  {
   "cell_type": "markdown",
   "metadata": {},
   "source": [
    "# 6-state model \n",
    "## minimal contribution edge 1 -> 2 (forward cycle)"
   ]
  },
  {
   "cell_type": "code",
   "execution_count": 10,
   "metadata": {},
   "outputs": [
    {
     "name": "stdout",
     "output_type": "stream",
     "text": [
      "[7.33284701e-01 2.59378227e-04 2.85718485e-04 2.64688316e-01\n",
      " 7.04453619e-04 7.77432245e-04]\n",
      "P1=dS/dt= -5.915407053080912e-16\n",
      "P2(copling to set of thermodynamic forces)= 2.7669088941174342\n",
      "\n",
      "flux in tri-cyclic 6-state modekl\n",
      "0.061032123693847584\n",
      "\n",
      "transition affinities\n",
      "A12 3.9296184581530595\n",
      "A25 0.03951894659997468\n",
      "A23 7.609543298486223\n",
      "A34 2.379039132150658\n",
      "A45 29.988810451331698\n",
      "A61 2.361047556598377\n",
      "\n",
      "entropy contribution\n",
      "5->6 0.7349034484894141\n",
      "6->1 0.22807740922607958\n",
      "1->2 0.37960150132418025\n",
      "2->5 0.002411925237140212\n",
      "2->3 0.27065598855528816\n",
      "3->4 0.0846175864788158\n",
      "4->5 1.0666410348065165\n"
     ]
    }
   ],
   "source": [
    "[w, w1]=Kinesin.Kinesin(force=Force)\n",
    "\n",
    "#calculate steady-state\n",
    "G=auto.Matrix2Graph(w)\n",
    "p=auto.steady_state(G)\n",
    "print(p)\n",
    "\n",
    "P_6state=entropyProduction(matrix=w, p=p)\n",
    "\n",
    "print()\n",
    "print('flux in tri-cyclic 6-state modekl')\n",
    "flux_6state=w[2-i][5-i]*p[2-i]-w[5-i][2-i]*p[5-i]\n",
    "print(flux_6state)\n",
    "\n",
    "print()\n",
    "print('transition affinities')\n",
    "A12=affinity(matrix=w, p=p, state1=1-i, state2=2-i)\n",
    "print('A12 ' +str(A12))\n",
    "A25=affinity(matrix=w, p=p, state1=2-i, state2=5-i)\n",
    "print('A25 ' +str(A25))\n",
    "A23=affinity(matrix=w, p=p, state1=2-i, state2=3-i)\n",
    "print('A23 ' +str(A23))\n",
    "A34=affinity(matrix=w, p=p, state1=3-i, state2=4-i)\n",
    "print('A34 ' +str(A34))\n",
    "A45=affinity(matrix=w, p=p, state1=4-i, state2=5-i)\n",
    "print('A45 ' +str(A45))\n",
    "A61=affinity(matrix=w, p=p, state1=6-i, state2=1-i)\n",
    "print('A61 ' +str(A61))\n",
    "A56=affinity(matrix=w, p=p, state1=5-i, state2=6-i)\n",
    "\n",
    "print()\n",
    "J12=w[1-i][2-i]*p[1-i]-w[2-i][1-i]*p[2-i]\n",
    "J25=w[2-i][5-i]*p[2-i]-w[5-i][2-i]*p[5-i]\n",
    "J34=w[3-i][4-i]*p[3-i]-w[4-i][3-i]*p[4-i]\n",
    "print('entropy contribution')\n",
    "print('5->6 ' +str(A56*J12))\n",
    "print('6->1 ' +str(A61*J12))\n",
    "print('1->2 ' +str(A12*J12))\n",
    "print('2->5 ' +str(A25*J25))\n",
    "print('2->3 ' +str(A23*J34))\n",
    "print('3->4 ' +str(A34*J34))\n",
    "print('4->5 ' +str(A45*J34))"
   ]
  },
  {
   "cell_type": "markdown",
   "metadata": {},
   "source": [
    "# 5-state model: merge state 3 and 4\n",
    "## wcg1"
   ]
  },
  {
   "cell_type": "code",
   "execution_count": 11,
   "metadata": {},
   "outputs": [
    {
     "name": "stdout",
     "output_type": "stream",
     "text": [
      "\n",
      "[[0.00000000e+00 1.34376794e-01 0.00000000e+00 0.00000000e+00\n",
      "  1.37195815e-02]\n",
      " [7.46537747e+00 0.00000000e+00 1.37195815e+02 6.07257343e+03\n",
      "  0.00000000e+00]\n",
      " [0.00000000e+00 6.65715084e-05 0.00000000e+00 1.34231897e-01\n",
      "  0.00000000e+00]\n",
      " [0.00000000e+00 2.14927025e+03 4.77784158e-12 0.00000000e+00\n",
      "  1.37195815e+02]\n",
      " [1.37195815e+02 0.00000000e+00 0.00000000e+00 6.17381167e-02\n",
      "  0.00000000e+00]]\n",
      "[7.33284701e-01 2.59378227e-04 2.64974035e-01 7.04453619e-04\n",
      " 7.77432245e-04]\n",
      "[7.33284701e-01 2.59378227e-04 2.85718485e-04 2.64688316e-01\n",
      " 7.04453619e-04 7.77432245e-04]\n",
      "P1=dS/dt= 8.673617379884035e-17\n",
      "P2(copling to set of thermodynamic forces)= 2.682291307638618\n",
      "2.682291307638618\n",
      "0.0846175864788159\n",
      "\n",
      "flux in tri-cyclic 5-state modekl\n",
      "0.06103212369384714\n",
      "flux in tri-cyclic 6-state modekl\n",
      "0.061032123693847584\n"
     ]
    }
   ],
   "source": [
    "#copying\n",
    "wcg1=w\n",
    "#print(wcg1)\n",
    "#sclicing: delete 4 th row (dim=0)\n",
    "#numpy.delete(arr, obj, axis=None)\n",
    "wcg1=  np.delete(wcg1, 4-1, 0)\n",
    "#print(wcg1)\n",
    "wcg1=np.delete(wcg1, 4-1, 1) #delete 4 th column (dim=1)\n",
    "#print(wcg1)\n",
    "# new rates\n",
    "wcg1[3-i][2-i]=w[3-i][2-i]*p[3-i]/(p[3-i]+p[4-i])\n",
    "wcg1[3-i][4-i]=w[4-i][5-i]*p[4-i]/(p[3-i]+p[4-i])\n",
    "wcg1[4-i][3-i]=w[5-i][4-i]\n",
    "print()\n",
    "print(wcg1)\n",
    "Gcg1=auto.Matrix2Graph(wcg1)\n",
    "pcg1=auto.steady_state(Gcg1)\n",
    "print(pcg1)\n",
    "print(p)\n",
    "P_5state=entropyProduction(matrix=wcg1, p=pcg1)\n",
    "print(P_5state)\n",
    "print(P_6state-P_5state)\n",
    "\n",
    "print()\n",
    "print('flux in tri-cyclic 5-state modekl')\n",
    "flux_5state=wcg1[2-i][4-i]*pcg1[2-i]-wcg1[4-i][2-i]*pcg1[4-i]\n",
    "print(flux_5state)\n",
    "print('flux in tri-cyclic 6-state modekl')\n",
    "flux_6state=w[2-i][5-i]*p[2-i]-w[5-i][2-i]*p[5-i]\n",
    "print(flux_6state)\n"
   ]
  },
  {
   "cell_type": "markdown",
   "metadata": {},
   "source": [
    "# Which edge in the 5-state model will be eliminated next?\n",
    "## edge 5->1"
   ]
  },
  {
   "cell_type": "code",
   "execution_count": 12,
   "metadata": {},
   "outputs": [
    {
     "name": "stdout",
     "output_type": "stream",
     "text": [
      "transition affinities\n",
      "A12 3.9296184581530595\n",
      "A23 7.609543298486223\n",
      "A34 29.988810451331698\n",
      "A45 7.60768897401719\n",
      "A51 2.3610475565983764\n",
      "A24 0.0395189465999744\n",
      "\n",
      "entropy production associated with edge 5->1\n",
      "0.22807740922607941\n",
      "entropy production associated with edge 2->4\n",
      "0.002411925237140178\n",
      "entropy production associated with edge 2->3\n",
      "0.27065598855528805\n"
     ]
    }
   ],
   "source": [
    "print('transition affinities')\n",
    "A12=affinity(matrix=wcg1, p=pcg1, state1=1-i, state2=2-i)\n",
    "print('A12 ' +str(A12))\n",
    "A23=affinity(matrix=wcg1, p=pcg1, state1=2-i, state2=3-i)\n",
    "print('A23 ' +str(A23))\n",
    "A34=affinity(matrix=wcg1, p=pcg1, state1=3-i, state2=4-i)\n",
    "print('A34 ' +str(A34))\n",
    "A45=affinity(matrix=wcg1, p=pcg1, state1=4-i, state2=5-i)\n",
    "print('A45 ' +str(A45))\n",
    "A51=affinity(matrix=wcg1, p=pcg1, state1=5-i, state2=1-i)\n",
    "print('A51 ' +str(A51))\n",
    "A24=affinity(matrix=wcg1, p=pcg1, state1=2-i, state2=4-i)\n",
    "print('A24 ' +str(A24))\n",
    "\n",
    "print()\n",
    "print('entropy production associated with edge 5->1')\n",
    "print((wcg1[5-i][1-i]*pcg1[5-i]-wcg1[1-i][5-i]*pcg1[1-i])*A51)\n",
    "print('entropy production associated with edge 2->4')\n",
    "print((wcg1[2-i][4-i]*pcg1[2-i]-wcg1[4-i][2-i]*pcg1[4-i])*A24)\n",
    "print('entropy production associated with edge 2->3')\n",
    "print((wcg1[2-i][3-i]*pcg1[2-i]-wcg1[3-i][2-i]*pcg1[3-i])*A23)"
   ]
  },
  {
   "cell_type": "markdown",
   "metadata": {},
   "source": [
    "# Merge state 5' and 1' in the 5-state model\n",
    "## result: tri-cyclic 4-state model \n",
    "# Wcg2"
   ]
  },
  {
   "cell_type": "code",
   "execution_count": 13,
   "metadata": {},
   "outputs": [
    {
     "name": "stdout",
     "output_type": "stream",
     "text": [
      "[[0.00000000e+00 1.34376794e-01 0.00000000e+00 0.00000000e+00\n",
      "  1.37195815e-02]\n",
      " [7.46537747e+00 0.00000000e+00 1.37195815e+02 6.07257343e+03\n",
      "  0.00000000e+00]\n",
      " [0.00000000e+00 6.65715084e-05 0.00000000e+00 1.34231897e-01\n",
      "  0.00000000e+00]\n",
      " [0.00000000e+00 2.14927025e+03 4.77784158e-12 0.00000000e+00\n",
      "  1.37195815e+02]\n",
      " [1.37195815e+02 0.00000000e+00 0.00000000e+00 6.17381167e-02\n",
      "  0.00000000e+00]]\n",
      "[[0.00000000e+00 1.34376794e-01 0.00000000e+00 0.00000000e+00\n",
      "  1.37195815e-02]\n",
      " [7.46537747e+00 0.00000000e+00 1.37195815e+02 6.07257343e+03\n",
      "  0.00000000e+00]\n",
      " [0.00000000e+00 6.65715084e-05 0.00000000e+00 1.34231897e-01\n",
      "  0.00000000e+00]\n",
      " [0.00000000e+00 2.14927025e+03 4.77784158e-12 0.00000000e+00\n",
      "  1.37195815e+02]]\n",
      "[[0.00000000e+00 1.34376794e-01 0.00000000e+00 0.00000000e+00]\n",
      " [7.46537747e+00 0.00000000e+00 1.37195815e+02 6.07257343e+03]\n",
      " [0.00000000e+00 6.65715084e-05 0.00000000e+00 1.34231897e-01]\n",
      " [0.00000000e+00 2.14927025e+03 4.77784158e-12 0.00000000e+00]]\n",
      "\n",
      "[[0.00000000e+00 1.34234478e-01 0.00000000e+00 6.53857494e-05]\n",
      " [7.46537747e+00 0.00000000e+00 1.37195815e+02 6.07257343e+03]\n",
      " [0.00000000e+00 6.65715084e-05 0.00000000e+00 1.34231897e-01]\n",
      " [1.37195815e+02 2.14927025e+03 4.77784158e-12 0.00000000e+00]]\n",
      "[7.34062133e-01 2.59378227e-04 2.64974035e-01 7.04453619e-04]\n",
      "[7.33284701e-01 2.59378227e-04 2.64974035e-01 7.04453619e-04\n",
      " 7.77432245e-04]\n",
      "P1=dS/dt= 2.3592239273284576e-16\n",
      "P2(copling to set of thermodynamic forces)= 2.4542138984125383\n",
      "2.454213898412539\n",
      "0.08503081249100768\n",
      "\n",
      "flux in tri-cyclic 4-state modekl\n",
      "0.06103212369384692\n",
      "0.06103212369384714\n"
     ]
    }
   ],
   "source": [
    "#copying\n",
    "wcg2=wcg1\n",
    "print(wcg2)\n",
    "#sclicing: delete 5 th row (dim=0)\n",
    "#numpy.delete(arr, obj, axis=None)\n",
    "wcg2=  np.delete(wcg2, 5-1, 0)\n",
    "print(wcg2)\n",
    "wcg2=np.delete(wcg2, 5-1, 1) #delete 5 th column (dim=1)\n",
    "print(wcg2)\n",
    "# new rates\n",
    "wcg2[1-i][2-i]=(wcg1[1-i][2-i]*pcg1[1-i])/(pcg1[1-i]+pcg1[5-i])\n",
    "wcg2[1-i][4-i]=wcg1[5-i][4-i]*pcg1[5-i]/(pcg1[1-i]+pcg1[5-i])\n",
    "wcg2[4-i][1-i]=wcg1[4-i][5-i]\n",
    "print()\n",
    "print(wcg2)\n",
    "Gcg2=auto.Matrix2Graph(wcg2)\n",
    "pcg2=auto.steady_state(Gcg2)\n",
    "print(pcg2)\n",
    "print(pcg1)\n",
    "P_4state=entropyProduction(matrix=wcg2, p=pcg2)\n",
    "print(P_4state)\n",
    "print((P_5state-P_4state)/P_5state)\n",
    "\n",
    "print()\n",
    "print('flux in tri-cyclic 4-state modekl')\n",
    "flux_4state=wcg2[2-i][4-i]*pcg2[2-i]-wcg2[4-i][2-i]*pcg2[4-i]\n",
    "print(flux_4state)\n",
    "print(flux_5state)"
   ]
  },
  {
   "cell_type": "code",
   "execution_count": 14,
   "metadata": {},
   "outputs": [
    {
     "name": "stdout",
     "output_type": "stream",
     "text": [
      "transition affinities in tri-cyclic 4-state model\n",
      "A12 3.9296184581530595\n",
      "A23 7.609543298486223\n",
      "A34 29.988810451331698\n",
      "A41 7.60768897401719\n",
      "A24 0.039518946599974236\n",
      "\n",
      "entropy production associated with edge 1->2\n",
      "0.37960150132418025\n",
      "entropy production associated with edge 2->3\n",
      "0.270655988555288\n",
      "entropy production associated with edge 3->4\n",
      "1.0666410348065158\n",
      "entropy production associated with edge 4->1\n",
      "0.7349034484894139\n",
      "entropy production associated with edge 2->4\n",
      "0.0024119252371401587\n",
      "\n",
      "fluxes in the \n",
      "forward cycle 0.09660009117083465\n",
      "backward cycle 0.03556796747698774\n",
      "mechanical transition 0.06103212369384692\n"
     ]
    }
   ],
   "source": [
    "print('transition affinities in tri-cyclic 4-state model')\n",
    "A12=affinity(matrix=wcg2, p=pcg2, state1=1-i, state2=2-i)\n",
    "print('A12 ' +str(A12))\n",
    "A23=affinity(matrix=wcg2, p=pcg2, state1=2-i, state2=3-i)\n",
    "print('A23 ' +str(A23))\n",
    "A34=affinity(matrix=wcg2, p=pcg2, state1=3-i, state2=4-i)\n",
    "print('A34 ' +str(A34))\n",
    "A41=affinity(matrix=wcg2, p=pcg2, state1=4-i, state2=1-i)\n",
    "print('A41 ' +str(A41))\n",
    "A24=affinity(matrix=wcg2, p=pcg2, state1=2-i, state2=4-i)\n",
    "print('A24 ' +str(A24))\n",
    "\n",
    "\n",
    "print()\n",
    "print('entropy production associated with edge 1->2')\n",
    "print((wcg2[1-i][2-i]*pcg2[1-i]-wcg2[2-i][1-i]*pcg2[2-i])*A12)\n",
    "print('entropy production associated with edge 2->3')\n",
    "print((wcg2[2-i][3-i]*pcg2[2-i]-wcg2[3-i][2-i]*pcg2[3-i])*A23)\n",
    "print('entropy production associated with edge 3->4')\n",
    "print((wcg2[3-i][4-i]*pcg2[3-i]-wcg2[4-i][3-i]*pcg2[4-i])*A34)\n",
    "print('entropy production associated with edge 4->1')\n",
    "print((wcg2[4-i][1-i]*pcg2[4-i]-wcg2[1-i][4-i]*pcg2[1-i])*A41)\n",
    "print('entropy production associated with edge 2->4')\n",
    "print((wcg2[2-i][4-i]*pcg2[2-i]-wcg2[4-i][2-i]*pcg2[4-i])*A24)\n",
    "\n",
    "print()\n",
    "print('fluxes in the ')\n",
    "print('forward cycle '+str(wcg2[1-i][2-i]*pcg2[1-i]-wcg2[2-i][1-i]*pcg2[2-i]))\n",
    "print('backward cycle '+str(wcg2[2-i][3-i]*pcg2[2-i]-wcg2[3-i][2-i]*pcg2[3-i]))\n",
    "print('mechanical transition '+str(wcg2[2-i][4-i]*pcg2[2-i]-wcg2[4-i][2-i]*pcg2[4-i]))"
   ]
  },
  {
   "cell_type": "markdown",
   "metadata": {},
   "source": [
    "# Coarse grain edge 2->3\n",
    "# unicyclic 3 state model\n",
    "# wcg3"
   ]
  },
  {
   "cell_type": "code",
   "execution_count": 15,
   "metadata": {},
   "outputs": [
    {
     "name": "stdout",
     "output_type": "stream",
     "text": [
      "[[0.00000000e+00 1.34234478e-01 0.00000000e+00 6.53857494e-05]\n",
      " [7.46537747e+00 0.00000000e+00 1.37195815e+02 6.07257343e+03]\n",
      " [0.00000000e+00 6.65715084e-05 0.00000000e+00 1.34231897e-01]\n",
      " [1.37195815e+02 2.14927025e+03 4.77784158e-12 0.00000000e+00]]\n",
      "[[0.00000000e+00 1.34234478e-01 0.00000000e+00 6.53857494e-05]\n",
      " [7.46537747e+00 0.00000000e+00 1.37195815e+02 6.07257343e+03]\n",
      " [1.37195815e+02 2.14927025e+03 4.77784158e-12 0.00000000e+00]]\n",
      "[[0.00000000e+00 1.34234478e-01 6.53857494e-05]\n",
      " [7.46537747e+00 0.00000000e+00 6.07257343e+03]\n",
      " [1.37195815e+02 2.14927025e+03 0.00000000e+00]]\n",
      "\n",
      "[[0.00000000e+00 1.34234478e-01 6.53857494e-05]\n",
      " [7.30057479e-03 0.00000000e+00 6.07261837e+00]\n",
      " [1.37195815e+02 2.14927025e+03 0.00000000e+00]]\n",
      "\n",
      "[7.34062133e-01 2.65233413e-01 7.04453619e-04]\n",
      "[7.34062133e-01 2.59378227e-04 2.64974035e-01 7.04453619e-04]\n",
      "P1=dS/dt= -9.992007221626409e-16\n",
      "P2(copling to set of thermodynamic forces)= 1.1204795937158103\n",
      "1.1204795937158094\n",
      "0.5434466431631855\n",
      "\n",
      "flux in unicyclic 3-state model\n",
      "0.09660009117083446\n",
      "forward flux conserved\n"
     ]
    }
   ],
   "source": [
    "#copying\n",
    "wcg3=wcg2\n",
    "print(wcg3)\n",
    "#sclicing: delete 3 th row (dim=0)\n",
    "#numpy.delete(arr, obj, axis=None)\n",
    "wcg3=  np.delete(wcg3, 3-1, 0)\n",
    "print(wcg3)\n",
    "wcg3=np.delete(wcg3, 3-1, 1) #delete 3 th column (dim=1)\n",
    "print(wcg3)\n",
    "# new rates\n",
    "wcg3[2-i][3-i]=(wcg2[2-i][4-i]*pcg2[2-i]+wcg2[3-i][4-i]*pcg2[3-i])/(pcg2[2-i]+pcg2[3-i])\n",
    "wcg3[2-i][1-i]=(wcg2[2-i][1-i]*pcg2[2-i])/(pcg2[2-i]+pcg2[3-i])\n",
    "wcg3[3-i][2-i]=wcg2[4-i][2-i]+wcg2[4-i][3-i]\n",
    "wcg3[3-i][1-i]=wcg2[4-i][1-i]\n",
    "\n",
    "print()\n",
    "print(wcg3)\n",
    "Gcg3=auto.Matrix2Graph(wcg3)\n",
    "pcg3=auto.steady_state(Gcg3)\n",
    "print()\n",
    "print(pcg3)\n",
    "print(pcg2)\n",
    "P_3state=entropyProduction(matrix=wcg3, p=pcg3)\n",
    "print(P_3state)\n",
    "print((P_4state-P_3state)/P_4state)\n",
    "\n",
    "print()\n",
    "print('flux in unicyclic 3-state model')\n",
    "flux_3state=wcg3[2-i][3-i]*pcg3[2-i]-wcg3[3-i][2-i]*pcg3[3-i]\n",
    "print(flux_3state)\n",
    "print('forward flux conserved')"
   ]
  },
  {
   "cell_type": "markdown",
   "metadata": {},
   "source": [
    "# Make 2-state model \n",
    "## wcg4"
   ]
  },
  {
   "cell_type": "code",
   "execution_count": 16,
   "metadata": {},
   "outputs": [
    {
     "name": "stdout",
     "output_type": "stream",
     "text": [
      "[0.734062133315472, 0.265937866684528]\n",
      "[7.34062133e-01 2.65233413e-01 7.04453619e-04]\n",
      "\n",
      "flux in equilibrium 2-state modekl\n",
      "0.0\n"
     ]
    }
   ],
   "source": [
    "wcg4=np.zeros((2,2))\n",
    "wcg4[2-i][1-i]=(wcg3[2-i][1-i]*pcg3[2-i]+wcg3[3-i][1-i]*pcg3[3-i])/(pcg3[2-i]+pcg3[3-i])\n",
    "wcg4[1-i][2-i]=wcg3[1-i][2-i]+wcg3[1-i][3-i]\n",
    "pcg4=[wcg4[2-i][1-i]/(wcg4[2-i][1-i]+wcg4[1-i][2-i]), wcg4[1-i][2-i]/(wcg4[2-i][1-i]+wcg4[1-i][2-i])]\n",
    "print(pcg4)\n",
    "print(pcg3)\n",
    "\n",
    "print()\n",
    "print('flux in equilibrium 2-state modekl')\n",
    "flux_2state=wcg4[1-i][2-i]*pcg4[1-i]-wcg4[2-i][1-i]*pcg4[2-i]\n",
    "print(flux_2state)"
   ]
  },
  {
   "cell_type": "code",
   "execution_count": 17,
   "metadata": {},
   "outputs": [
    {
     "name": "stdout",
     "output_type": "stream",
     "text": [
      "fluxes\n",
      "[0.061032123693847584, 0.06103212369384714, 0.06103212369384692, 0.09660009117083446, 0.0]\n"
     ]
    }
   ],
   "source": [
    "print('fluxes')\n",
    "print([flux_6state,flux_5state,flux_4state,flux_3state, flux_2state])"
   ]
  },
  {
   "cell_type": "code",
   "execution_count": 18,
   "metadata": {},
   "outputs": [
    {
     "name": "stdout",
     "output_type": "stream",
     "text": [
      "[0, 0.030581992294258946, 0.11301239313289205, 0.5950428306121691, 1.0]\n",
      "[ 0.         -0.13608467 -0.22032094  0.09504283  0.33333333]\n",
      "[0.0, -7.276319141010484e-15, -1.0914478711515724e-14, 0.5827745345288114, 1.0]\n"
     ]
    }
   ],
   "source": [
    "CG_nodes=[0,1/6,2/6,3/6,4/6]\n",
    "CG_Entropy=[0, (P_6state-P_5state)/P_6state, (P_6state-P_4state)/P_6state, (P_6state-P_3state)/P_6state, (P_6state-0)/P_6state]\n",
    "print(CG_Entropy)\n",
    "diff=np.array(CG_Entropy)-np.array(CG_nodes)\n",
    "print(diff)\n",
    "CG_fluxes=[flux_6state-flux_6state,(flux_5state-flux_6state)/flux_6state,(flux_4state-flux_6state)/flux_6state,(flux_3state-flux_6state)/flux_6state, (flux_6state-flux_2state)/flux_6state]\n",
    "print(CG_fluxes)"
   ]
  },
  {
   "cell_type": "code",
   "execution_count": 19,
   "metadata": {},
   "outputs": [
    {
     "name": "stdout",
     "output_type": "stream",
     "text": [
      "(0.0, 0.67)\n"
     ]
    },
    {
     "name": "stderr",
     "output_type": "stream",
     "text": [
      "The PostScript backend does not support transparency; partially transparent artists will be rendered opaque.\n",
      "The PostScript backend does not support transparency; partially transparent artists will be rendered opaque.\n"
     ]
    },
    {
     "data": {
      "image/png": "[encoded data removed]",
      "text/plain": [
       "<Figure size 432x288 with 2 Axes>"
      ]
     },
     "metadata": {
      "needs_background": "light"
     },
     "output_type": "display_data"
    }
   ],
   "source": [
    "f_size = 16\n",
    "legend_size = 11\n",
    "\n",
    "fig, axs = plt.subplots(1,1)\n",
    "#axs.set_ylabel('Fractional change', fontsize=f_size)\n",
    "axs.set_xlabel('Coarse-grained nodes  $\\dfrac{\\Delta N}{N_0}$', fontsize=f_size)\n",
    "    \n",
    "axs.plot(CG_nodes, CG_Entropy, label='$\\dfrac{\\Delta P}{P_0}$', linestyle='--')\n",
    "axs.plot(CG_nodes, CG_nodes, label='$\\dfrac{\\Delta N}{N_0}$', linestyle='dotted')\n",
    "axs.plot(CG_nodes, diff, label='$\\dfrac{\\Delta P}{P_0}$ - $\\dfrac{\\Delta N}{N_0}$')\n",
    "\n",
    "axs.arrow( x=0.333, y=0.1, dx=0, dy=-0.2,  head_width=0.02, head_length=0.1, fc='k', ec='k')  \n",
    "axs.legend(prop={'size': legend_size}, loc='upper left')\n",
    "    \n",
    "#plot iteration\n",
    "itera1=[[1/6,1/6], [-0.6, 1.1]]\n",
    "itera2=[[2/6,2/6], [-0.6, 1.1]]\n",
    "itera3=[[3/6,3/6], [-0.6, 1.1]]\n",
    "itera4=[[4/6,4/6], [-0.6, 1.1]]\n",
    "axs.plot(itera1[0], itera1[1], linestyle=':', color='black')\n",
    "axs.plot(itera2[0], itera2[1], linestyle=':', color='black')\n",
    "axs.plot(itera3[0], itera3[1], linestyle=':', color='black')\n",
    "axs.plot(itera4[0], itera4[1], linestyle=':', color='black')\n",
    "axs.set_ylim([-0.25,1.1])\n",
    "axs.set_xlim([-0,0.67])\n",
    "\n",
    "axs.tick_params(axis='both', labelsize=f_size)\n",
    "    \n",
    "ax2 = axs.twiny()\n",
    "ax2.tick_params(axis='both', labelsize=f_size)\n",
    "print(axs.get_xlim())\n",
    "new_tick_locations = np.array([0,1,2,3,4])\n",
    "ax2.set_xticks(new_tick_locations)\n",
    "#ax2.set_xticklabels(tick_function(new_tick_locations))\n",
    "ax2.set_xlabel(r\"Coarse-graining iteration\", fontsize=f_size)\n",
    "plt.text(1.3, -0.11, 'Heuristic \\nsweet spot')\n",
    "\n",
    "fig.tight_layout()\n",
    "fig.savefig('Iteratives_CG_Kinesin_Force=6.5e-12N.eps',bbox_inches=\"tight\")\n",
    "plt.show()"
   ]
  },
  {
   "cell_type": "code",
   "execution_count": 20,
   "metadata": {},
   "outputs": [
    {
     "name": "stdout",
     "output_type": "stream",
     "text": [
      "(0.0, 0.67)\n"
     ]
    },
    {
     "name": "stderr",
     "output_type": "stream",
     "text": [
      "The PostScript backend does not support transparency; partially transparent artists will be rendered opaque.\n",
      "The PostScript backend does not support transparency; partially transparent artists will be rendered opaque.\n"
     ]
    },
    {
     "data": {
      "image/png": "[encoded data removed]",
      "text/plain": [
       "<Figure size 432x288 with 2 Axes>"
      ]
     },
     "metadata": {
      "needs_background": "light"
     },
     "output_type": "display_data"
    }
   ],
   "source": [
    "fig, axs = plt.subplots(1,1)\n",
    "#axs.set_ylabel('Fractional change', fontsize=f_size)\n",
    "axs.set_xlabel('Coarse-grained nodes  $\\dfrac{\\Delta N}{N_0}$', fontsize=f_size)\n",
    "   \n",
    "axs.plot(CG_nodes, CG_Entropy, label='Entropy $\\dfrac{\\Delta P}{P_0}$', linestyle='--')   \n",
    "axs.plot(CG_nodes, CG_fluxes, label='Velocity $\\dfrac{\\Delta v}{v_0}$', color='purple')\n",
    "#axs.plot(CG_nodes, diff, label='$\\dfrac{\\Delta P}{P_0}$ - $\\dfrac{\\Delta N}{N_0}$')\n",
    "\n",
    "    \n",
    "#plot iteration\n",
    "itera1=[[1/6,1/6], [-0.6, 1.1]]\n",
    "itera2=[[2/6,2/6], [-0.6, 1.1]]\n",
    "itera3=[[3/6,3/6], [-0.6, 1.1]]\n",
    "itera4=[[4/6,4/6], [-0.6, 1.1]]\n",
    "axs.plot(itera1[0], itera1[1], linestyle=':', color='black')\n",
    "axs.plot(itera2[0], itera2[1], linestyle=':', color='black')\n",
    "axs.plot(itera3[0], itera3[1], linestyle=':', color='black')\n",
    "axs.plot(itera4[0], itera4[1], linestyle=':', color='black')\n",
    "axs.set_ylim([-0.001,0.65])\n",
    "axs.set_xlim([-0,0.67])\n",
    "axs.legend(prop={'size': f_size}, loc='upper left')\n",
    "\n",
    "axs.tick_params(axis='both', labelsize=f_size)\n",
    "    \n",
    "ax2 = axs.twiny()\n",
    "ax2.tick_params(axis='both', labelsize=f_size)\n",
    "print(axs.get_xlim())\n",
    "new_tick_locations = np.array([0,1,2,3, 4])\n",
    "ax2.set_xticks(new_tick_locations)\n",
    "#ax2.set_xticklabels(tick_function(new_tick_locations))\n",
    "ax2.set_xlabel(r\"Coarse-graining iteration\", fontsize=f_size)\n",
    "#plt.text(2.3, -0.25, 'Heuristic \\nsweet spot')\n",
    "\n",
    "#axs.arrow( x=0.4, y=0.027, dx=0.05, dy=0.,  head_width=0.01, head_length=0.05, fc='k', ec='k')\n",
    "#plt.text(2.1, 0.118, 'uni-cyclic\\nmodel ',fontsize=15)\n",
    "#axs.arrow( x=2.5/6, y=0.15, dx=0.07, dy=0.025,  head_width=0.007, head_length=0.01, fc='k', ec='k')\n",
    "\n",
    "#plt.text(3.15, 0.118, 'two-state\\nmodel ',fontsize=15)\n",
    "#axs.arrow( x=3.5/6, y=0.15, dx=0.07, dy=0.025,  head_width=0.007, head_length=0.01, fc='k', ec='k')\n",
    "\n",
    "#axs.arrow( x=1/6, y=0.15, dx=0, dy=0.02,  head_width=0.01, head_length=0.01, fc='k', ec='k')\n",
    "#axs.arrow( x=1/6, y=0.15, dx=1/6*0.95, dy=0.025,  head_width=0.007, head_length=0.01, fc='k', ec='k')\n",
    "#axs.arrow( x=1/6, y=0.15, dx=-1/6*0.95, dy=0.025,  head_width=0.007, head_length=0.01, fc='k', ec='k')\n",
    "#plt.text(0.72, 0.118, 'tri-cyclic\\nmodel ',fontsize=15)\n",
    "\n",
    "fig.tight_layout()\n",
    "fig.savefig('Iteratives_CG_Kinesin_Force=6.5e-12N_velocity.eps',bbox_inches=\"tight\")\n",
    "plt.show()"
   ]
  },
  {
   "cell_type": "code",
   "execution_count": null,
   "metadata": {},
   "outputs": [],
   "source": []
  }
 ],
 "metadata": {
  "kernelspec": {
   "display_name": "Python 3",
   "language": "python",
   "name": "python3"
  },
  "language_info": {
   "codemirror_mode": {
    "name": "ipython",
    "version": 3
   },
   "file_extension": ".py",
   "mimetype": "text/x-python",
   "name": "python",
   "nbconvert_exporter": "python",
   "pygments_lexer": "ipython3",
   "version": "3.8.5"
  }
 },
 "nbformat": 4,
 "nbformat_minor": 4
}
