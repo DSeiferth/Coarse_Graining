{
 "cells": [
  {
   "cell_type": "markdown",
   "metadata": {},
   "source": [
    "# Different levels of coarse-grained models for zero external load force\n",
    "We iteratively eliminate states from the kinesin model to simplify the description of\n",
    "the molecular motor and to obtain a hierarchy of models with\n",
    "different levels of coarse graining. In each coarse-graining\n",
    "iteration, the two states that are merged are chosen such that\n",
    "the transition or the cycle with minimal entropy production\n",
    "is removed and thus the difference in entropy production\n",
    "between the models is minimal. In general, there will be\n",
    "coarse-graining steps that preserve the cycle topology and\n",
    "steps that change it. For the kinesin model, we can perform\n",
    "four iterations of the coarse-graining step. In each iteration,\n",
    "the model loses one state, such that we end up with a two-state network after step 4.\n",
    "\n",
    "\n",
    "No external stall force is applied and the forward cycle is dominant."
   ]
  },
  {
   "cell_type": "code",
   "execution_count": 2,
   "metadata": {},
   "outputs": [],
   "source": [
    "import numpy as np\n",
    "\n",
    "from matplotlib import pyplot as plt\n",
    "import math\n",
    "\n",
    "import time\n",
    "import random\n",
    "import networkx as nx\n",
    "import os\n",
    "\n",
    "import sys\n",
    "path='../Bibliotheken/'\n",
    "sys.path.append(path)\n",
    "\n",
    "import Steady_State_Calculation_Spanning_Trees as auto\n",
    "import Kinesin_Parameters as Kinesin\n",
    "import PDF_Flux_entropy as PDF\n",
    "#import Analytic_Quantities as analytic\n",
    "#import Bib3_CountCycles as CountCycles"
   ]
  },
  {
   "cell_type": "code",
   "execution_count": 4,
   "metadata": {},
   "outputs": [],
   "source": [
    "Force=0  # external load force\n",
    "i=1      # python starts arrays with 0"
   ]
  },
  {
   "cell_type": "code",
   "execution_count": 5,
   "metadata": {},
   "outputs": [],
   "source": [
    "def Cycle_Fluxes_Kinesin(w1, G):\n",
    "    normierung=auto.Normfactor(G)\n",
    "    #print('forward cycle F')\n",
    "    zuflussF=(w1[4][5]*w1[3][2]+w1[3][4]*w1[4][5]+w1[4][3]*w1[3][2])\n",
    "    JF_plus=w1[1][2]*w1[2][5]*w1[5][6]*w1[6][1]*zuflussF/normierung\n",
    "    JF_minus=w1[1][6]*w1[6][5]*w1[5][2]*w1[2][1]*zuflussF/normierung\n",
    "    #print([JF_plus, JF_minus])\n",
    "    #print(zuflussF/normierung)\n",
    "    #print()\n",
    "\n",
    "    #print('backward cycle B')\n",
    "    zuflussB=(w1[1][2]*w1[6][5]+w1[6][1]*w1[1][2]+w1[1][6]*w1[6][5])\n",
    "    JB_plus=w1[2][3]*w1[3][4]*w1[4][5]*w1[5][2]*zuflussB/normierung\n",
    "    JB_minus=w1[2][5]*w1[5][4]*w1[4][3]*w1[3][2]*zuflussB/normierung\n",
    "    #print([JB_plus, JB_minus])\n",
    "    #print(zuflussB/normierung)\n",
    "    #print()\n",
    "\n",
    "    #print('dissipative cycle D')\n",
    "    zuflussD=1.0\n",
    "    JD_plus=w1[1][2]*w1[2][3]*w1[3][4]*w1[4][5]*w1[5][6]*w1[6][1]*zuflussD/normierung\n",
    "    JD_minus=w1[1][6]*w1[6][5]*w1[5][4]*w1[4][3]*w1[3][2]*w1[2][1]*zuflussD/normierung\n",
    "    #print([JD_plus, JD_minus])\n",
    "    #print(zuflussD/normierung)\n",
    "    #print()\n",
    "\n",
    "    #print('mean and variance for 1200 s')\n",
    "    #print(JF_plus-JF_minus-JB_plus+JB_minus)\n",
    "    #print((JF_plus+JF_minus+JB_plus+JB_minus)/12e2)\n",
    "    return (JF_plus - JF_minus)*zuflussF/normierung, (JB_plus - JB_minus)*zuflussB/normierung, (JD_plus - JD_minus)*zuflussD/normierung\n",
    "    \n",
    "\n",
    "def Affinities_Kinesin(w1):\n",
    "    DeltaS_F=np.log(w1[1][2]*w1[2][5]*w1[5][6]*w1[6][1])-np.log(w1[1][6]*w1[6][5]*w1[5][2]*w1[2][1])\n",
    "    DeltaS_B=np.log(w1[2][3]*w1[3][4]*w1[4][5]*w1[5][2])-np.log(w1[2][5]*w1[5][4]*w1[4][3]*w1[3][2])\n",
    "    DeltaS_D=np.log(w1[1][2]*w1[2][3]*w1[3][4]*w1[4][5]*w1[5][6]*w1[6][1])-np.log(w1[1][6]*w1[6][5]*w1[5][4]*w1[4][3]*w1[3][2]*w1[2][1])\n",
    "    return DeltaS_F, DeltaS_B, DeltaS_D\n",
    "   \n",
    "def Chords_Kinesin(w1, p):    \n",
    "    J12=w1[1][2]*p[1-1]-w1[2][1]*p[2-1]\n",
    "    J23=w1[2][3]*p[2-1]-w1[3][2]*p[3-1]\n",
    "    J25=J12-J23\n",
    "    return J12, J23, J25\n",
    "def EntropyProductionChords(w1, p):\n",
    "    J12, J23, J25 = Chords_Kinesin(w1, p)\n",
    "    dS_F, dS_B, dS_D = Affinities_Kinesin(w1)\n",
    "    P1 = J12 * dS_F + J23 * dS_B\n",
    "    P2 = J25 * dS_F + J23 * dS_D\n",
    "    P3 = J12 * dS_D - J25 * dS_B\n",
    "    print([P1, P2, P3])\n",
    "    return P1, P2, P3\n",
    "\n",
    "\n",
    "def entropyProduction(matrix, p):\n",
    "    P1=0.\n",
    "    P2=0.\n",
    "    N=len(matrix)\n",
    "    #J=CG.NetFlux(matrix,p)\n",
    "    for i in range(N):\n",
    "        for j in range(N):\n",
    "            P1=P1+(matrix[j][i]*p[j]-matrix[i][j]*p[i])*math.log(p[j]/p[i])\n",
    "            if matrix[i][j]!=0:\n",
    "                P2=P2+((matrix[j][i]*p[j]-matrix[i][j]*p[i]))*math.log(matrix[j][i]/matrix[i][j])\n",
    "    P1=0.5*P1\n",
    "    P2=0.5*P2\n",
    "    print('P1=dS/dt= '+str(P1))\n",
    "    print('P2(copling to set of thermodynamic forces)= '+str(P2))\n",
    "    return P1+P2\n",
    "\n",
    "def affinity(matrix, p, state1, state2):\n",
    "    return np.log(matrix[state1][state2]*p[state1])-np.log(matrix[state2][state1]*p[state2])\n",
    "    "
   ]
  },
  {
   "cell_type": "markdown",
   "metadata": {},
   "source": [
    "# 6-state model \n",
    "## minimal contribution edge 3->4"
   ]
  },
  {
   "cell_type": "code",
   "execution_count": 6,
   "metadata": {},
   "outputs": [
    {
     "name": "stdout",
     "output_type": "stream",
     "text": [
      "[9.81569409e-01 5.89059580e-06 5.95333810e-06 6.54212978e-04\n",
      " 8.83519759e-03 8.92933633e-03]\n",
      "P1=dS/dt= -4.558853294867049e-15\n",
      "P2(copling to set of thermodynamic forces)= 47.610360985157904\n",
      "[47.610360985157904, 47.61036098515791, 47.61036098515791]\n",
      "\n",
      "flux in tri-cyclic 6-state modekl\n",
      "1.765058293576666\n"
     ]
    }
   ],
   "source": [
    "[w, w1]=Kinesin.Kinesin(force=Force)\n",
    "\n",
    "#calculate steady-state\n",
    "G=auto.Matrix2Graph(w)\n",
    "p=auto.steady_state(G)\n",
    "print(p)\n",
    "\n",
    "P_6state=entropyProduction(matrix=w, p=p)\n",
    "EntropyProductionChords(w1, p)\n",
    "\n",
    "print()\n",
    "print('flux in tri-cyclic 6-state modekl')\n",
    "flux_6state=w[2-i][5-i]*p[2-i]-w[5-i][2-i]*p[5-i]\n",
    "print(flux_6state)"
   ]
  },
  {
   "cell_type": "markdown",
   "metadata": {},
   "source": [
    "# Wcg1"
   ]
  },
  {
   "cell_type": "code",
   "execution_count": 7,
   "metadata": {},
   "outputs": [
    {
     "name": "stdout",
     "output_type": "stream",
     "text": [
      "\n",
      "[9.81569409e-01 5.89059580e-06 6.60166316e-04 8.83519759e-03\n",
      " 8.92933633e-03]\n",
      "[9.81569409e-01 5.89059580e-06 5.95333810e-06 6.54212978e-04\n",
      " 8.83519759e-03 8.92933633e-03]\n",
      "P1=dS/dt= -1.7017637299332478e-15\n",
      "P2(copling to set of thermodynamic forces)= 47.60504907206324\n",
      "47.60504907206324\n",
      "0.005311913094658394\n",
      "\n",
      "flux in tri-cyclic 5-state modekl\n",
      "1.765058293576666\n"
     ]
    }
   ],
   "source": [
    "# coarse graining \n",
    "# I start counting from 0\n",
    "\n",
    "i=1\n",
    "#copying\n",
    "wcg1=w\n",
    "#print(w_copy)\n",
    "#sclicing: delete 3+1 th row (dim=0)\n",
    "#numpy.delete(arr, obj, axis=None)\n",
    "wcg1=  np.delete(wcg1, 3, 0)\n",
    "#print(wcg1)\n",
    "wcg1=np.delete(wcg1, 3, 1) #delete 3+1 th column (dim=1)\n",
    "#print(wcg1)\n",
    "# new rates\n",
    "wcg1[3-i][2-i]=w[3-i][2-i]*p[3-i]/(p[3-i]+p[4-i])\n",
    "wcg1[3-i][4-i]=w[4-i][5-i]*p[4-i]/(p[3-i]+p[4-i])\n",
    "wcg1[4-i][3-i]=w[5-i][4-i]\n",
    "print()\n",
    "#print(wcg1)\n",
    "Gcg1=auto.Matrix2Graph(wcg1)\n",
    "pcg1=auto.steady_state(Gcg1)\n",
    "print(pcg1)\n",
    "print(p)\n",
    "P_5state=entropyProduction(matrix=wcg1, p=pcg1)\n",
    "print(P_5state)\n",
    "print(P_6state-P_5state)\n",
    "\n",
    "print()\n",
    "print('flux in tri-cyclic 5-state modekl')\n",
    "flux_5state=wcg1[2-i][4-i]*pcg1[2-i]-wcg1[4-i][2-i]*pcg1[4-i]\n",
    "print(flux_5state)\n"
   ]
  },
  {
   "cell_type": "markdown",
   "metadata": {},
   "source": [
    "# Which edge will be eliminated next?"
   ]
  },
  {
   "cell_type": "code",
   "execution_count": 8,
   "metadata": {},
   "outputs": [
    {
     "name": "stdout",
     "output_type": "stream",
     "text": [
      "transition affinities\n",
      "A12 8.006167338950139\n",
      "A23 7.695668035526938\n",
      "A34 21.4568589021754\n",
      "A45 7.695664372246653\n",
      "A51 4.510529715796127\n",
      "A24 6.725512508375683\n",
      "\n",
      "entropy production associated with edge 1->2\n",
      "14.140779990814183\n",
      "entropy production associated with edge 2->3\n",
      "0.009062290624536323\n",
      "entropy production associated with edge 3->4\n",
      "0.02526724000613271\n"
     ]
    }
   ],
   "source": [
    "print('transition affinities')\n",
    "A12=affinity(matrix=wcg1, p=pcg1, state1=1-i, state2=2-i)\n",
    "print('A12 ' +str(A12))\n",
    "A23=affinity(matrix=wcg1, p=pcg1, state1=2-i, state2=3-i)\n",
    "print('A23 ' +str(A23))\n",
    "A34=affinity(matrix=wcg1, p=pcg1, state1=3-i, state2=4-i)\n",
    "print('A34 ' +str(A34))\n",
    "A45=affinity(matrix=wcg1, p=pcg1, state1=4-i, state2=5-i)\n",
    "print('A45 ' +str(A45))\n",
    "A51=affinity(matrix=wcg1, p=pcg1, state1=5-i, state2=1-i)\n",
    "print('A51 ' +str(A51))\n",
    "A24=affinity(matrix=wcg1, p=pcg1, state1=2-i, state2=4-i)\n",
    "print('A24 ' +str(A24))\n",
    "\n",
    "print()\n",
    "print('entropy production associated with edge 1->2')\n",
    "print((wcg1[1-i][2-i]*pcg1[1-i]-wcg1[2-i][1-i]*pcg1[2-i])*A12)\n",
    "print('entropy production associated with edge 2->3')\n",
    "print((wcg1[2-i][3-i]*pcg1[2-i]-wcg1[3-i][2-i]*pcg1[3-i])*A23)\n",
    "print('entropy production associated with edge 3->4')\n",
    "print((wcg1[3-i][4-i]*pcg1[3-i]-wcg1[4-i][3-i]*pcg1[4-i])*A34)"
   ]
  },
  {
   "cell_type": "markdown",
   "metadata": {},
   "source": [
    "# Merge state 2' and 3' in the 5-state model\n",
    "## result: unicyclic 4-state model \n",
    "# Wcg2"
   ]
  },
  {
   "cell_type": "code",
   "execution_count": 9,
   "metadata": {},
   "outputs": [
    {
     "name": "stdout",
     "output_type": "stream",
     "text": [
      "[[0.00000000e+00 1.80000000e+00 0.00000000e+00 0.00000000e+00\n",
      "  2.00000000e-02]\n",
      " [1.00000000e+02 0.00000000e+00 2.00000000e+02 3.00000000e+05\n",
      "  0.00000000e+00]\n",
      " [0.00000000e+00 8.11614309e-04 0.00000000e+00 1.78376771e+00\n",
      "  0.00000000e+00]\n",
      " [0.00000000e+00 2.40000000e-01 6.40000000e-11 0.00000000e+00\n",
      "  2.00000000e+02]\n",
      " [2.00000000e+02 0.00000000e+00 0.00000000e+00 9.00000000e-02\n",
      "  0.00000000e+00]]\n",
      "[[0.0e+00 1.8e+00 0.0e+00 0.0e+00 2.0e-02]\n",
      " [1.0e+02 0.0e+00 2.0e+02 3.0e+05 0.0e+00]\n",
      " [0.0e+00 2.4e-01 6.4e-11 0.0e+00 2.0e+02]\n",
      " [2.0e+02 0.0e+00 0.0e+00 9.0e-02 0.0e+00]]\n",
      "[[0.0e+00 1.8e+00 0.0e+00 2.0e-02]\n",
      " [1.0e+02 0.0e+00 3.0e+05 0.0e+00]\n",
      " [0.0e+00 2.4e-01 0.0e+00 2.0e+02]\n",
      " [2.0e+02 0.0e+00 9.0e-02 0.0e+00]]\n",
      "\n",
      "[[0.00000000e+00 1.80000000e+00 0.00000000e+00 2.00000000e-02]\n",
      " [8.84398269e-01 0.00000000e+00 2.65496280e+03 0.00000000e+00]\n",
      " [0.00000000e+00 2.40000000e-01 0.00000000e+00 2.00000000e+02]\n",
      " [2.00000000e+02 0.00000000e+00 9.00000000e-02 0.00000000e+00]]\n",
      "[9.81569409e-01 6.66056912e-04 8.83519759e-03 8.92933633e-03]\n",
      "[9.81569409e-01 5.89059580e-06 6.60166316e-04 8.83519759e-03\n",
      " 8.92933633e-03]\n",
      "P1=dS/dt= 1.85268467234323e-15\n",
      "P2(copling to set of thermodynamic forces)= 47.5798159556853\n",
      "47.5798159556853\n",
      "0.0005300512628343902\n",
      "\n",
      "flux in unicyclic 4-state modekl\n",
      "1.7662358769369022\n"
     ]
    }
   ],
   "source": [
    "# I start counting from 0\n",
    "i=1\n",
    "#copying\n",
    "wcg2=wcg1\n",
    "print(wcg2)\n",
    "#sclicing: delete 3-1 th row (dim=0)\n",
    "#numpy.delete(arr, obj, axis=None)\n",
    "wcg2=  np.delete(wcg2, 3-1, 0)\n",
    "print(wcg2)\n",
    "wcg2=np.delete(wcg2, 3-1, 1) #delete 3+1 th column (dim=1)\n",
    "print(wcg2)\n",
    "# new rates\n",
    "wcg2[2-i][3-i]=(wcg1[2-i][4-i]*pcg1[2-i]+wcg1[3-i][4-i]*pcg1[3-i])/(pcg1[2-i]+pcg1[3-i])\n",
    "wcg2[2-i][1-i]=wcg1[2-i][1-i]*pcg1[2-i]/(pcg1[2-i]+pcg1[3-i])\n",
    "wcg2[3-i][2-i]=wcg1[4-i][2-i]+wcg1[4-i][3-i]\n",
    "print()\n",
    "print(wcg2)\n",
    "Gcg2=auto.Matrix2Graph(wcg2)\n",
    "pcg2=auto.steady_state(Gcg2)\n",
    "print(pcg2)\n",
    "print(pcg1)\n",
    "P_4state=entropyProduction(matrix=wcg2, p=pcg2)\n",
    "print(P_4state)\n",
    "print((P_5state-P_4state)/P_5state)\n",
    "\n",
    "print()\n",
    "print('flux in unicyclic 4-state modekl')\n",
    "flux_4state=wcg2[2-i][3-i]*pcg2[2-i]-wcg2[3-i][2-i]*pcg2[3-i]\n",
    "print(flux_4state)"
   ]
  },
  {
   "cell_type": "markdown",
   "metadata": {},
   "source": [
    "# Alternative Wcg2b\n",
    "## Merge state 1' and 2' in the 5-state model\n",
    "### yields bigger difference in entropy production than merging 2' and 3'"
   ]
  },
  {
   "cell_type": "code",
   "execution_count": 10,
   "metadata": {},
   "outputs": [
    {
     "name": "stdout",
     "output_type": "stream",
     "text": [
      "[[0.00000000e+00 1.80000000e+00 0.00000000e+00 0.00000000e+00\n",
      "  2.00000000e-02]\n",
      " [1.00000000e+02 0.00000000e+00 2.00000000e+02 3.00000000e+05\n",
      "  0.00000000e+00]\n",
      " [0.00000000e+00 8.11614309e-04 0.00000000e+00 1.78376771e+00\n",
      "  0.00000000e+00]\n",
      " [0.00000000e+00 2.40000000e-01 6.40000000e-11 0.00000000e+00\n",
      "  2.00000000e+02]\n",
      " [2.00000000e+02 0.00000000e+00 0.00000000e+00 9.00000000e-02\n",
      "  0.00000000e+00]]\n",
      "[[0.00000000e+00 1.80000000e+00 0.00000000e+00 0.00000000e+00\n",
      "  2.00000000e-02]\n",
      " [0.00000000e+00 8.11614309e-04 0.00000000e+00 1.78376771e+00\n",
      "  0.00000000e+00]\n",
      " [0.00000000e+00 2.40000000e-01 6.40000000e-11 0.00000000e+00\n",
      "  2.00000000e+02]\n",
      " [2.00000000e+02 0.00000000e+00 0.00000000e+00 9.00000000e-02\n",
      "  0.00000000e+00]]\n",
      "[[0.00000000e+00 0.00000000e+00 0.00000000e+00 2.00000000e-02]\n",
      " [0.00000000e+00 0.00000000e+00 1.78376771e+00 0.00000000e+00]\n",
      " [0.00000000e+00 6.40000000e-11 0.00000000e+00 2.00000000e+02]\n",
      " [2.00000000e+02 0.00000000e+00 9.00000000e-02 0.00000000e+00]]\n",
      "\n",
      "[[0.00000000e+00 1.20023310e-03 1.80034964e+00 1.99998800e-02]\n",
      " [8.11614309e-04 0.00000000e+00 1.78376771e+00 0.00000000e+00]\n",
      " [2.40000000e-01 6.40000000e-11 0.00000000e+00 2.00000000e+02]\n",
      " [2.00000000e+02 0.00000000e+00 9.00000000e-02 0.00000000e+00]]\n",
      "[9.81575300e-01 6.60166316e-04 8.83519759e-03 8.92933633e-03]\n",
      "[9.81569409e-01 5.89059580e-06 6.60166316e-04 8.83519759e-03\n",
      " 8.92933633e-03]\n",
      "P1=dS/dt= 7.45931094670027e-17\n",
      "P2(copling to set of thermodynamic forces)= 33.46426908124904\n",
      "33.46426908124904\n",
      "0.2970437015915741\n"
     ]
    }
   ],
   "source": [
    "# I start counting from 0\n",
    "i=1\n",
    "#copying\n",
    "wcg2b=wcg1\n",
    "print(wcg2b)\n",
    "#sclicing: delete 2-1 th row (dim=0)\n",
    "#numpy.delete(arr, obj, axis=None)\n",
    "wcg2b=  np.delete(wcg2b, 2-1, 0)\n",
    "print(wcg2b)\n",
    "wcg2b=np.delete(wcg2b, 2-1, 1) #delete 3+1 th column (dim=1)\n",
    "print(wcg2b)\n",
    "# new rates\n",
    "wcg2b[1-i][4-i]=(wcg1[1-i][5-i]*pcg1[1-i])/(pcg1[1-i]+pcg1[2-i])\n",
    "wcg2b[1-i][3-i]=wcg1[2-i][4-i]*pcg1[2-i]/(pcg1[1-i]+pcg1[2-i])\n",
    "wcg2b[3-i][1-i]=wcg1[4-i][2-i]\n",
    "wcg2b[1-i][2-i]=wcg1[2-i][3-i]*pcg1[2-i]/(pcg1[1-i]+pcg1[2-i])\n",
    "wcg2b[2-i][1-i]=wcg1[3-i][2-i]\n",
    "\n",
    "print()\n",
    "print(wcg2b)\n",
    "Gcg2b=auto.Matrix2Graph(wcg2b)\n",
    "pcg2b=auto.steady_state(Gcg2b)\n",
    "print(pcg2b)\n",
    "print(pcg1)\n",
    "P_4stateb=entropyProduction(matrix=wcg2b, p=pcg2b)\n",
    "print(P_4stateb)\n",
    "print((P_5state-P_4stateb)/P_5state)"
   ]
  },
  {
   "cell_type": "markdown",
   "metadata": {},
   "source": [
    "# Affinities in unicyclic 4-state model (wcg2)"
   ]
  },
  {
   "cell_type": "code",
   "execution_count": 11,
   "metadata": {},
   "outputs": [
    {
     "name": "stdout",
     "output_type": "stream",
     "text": [
      "transition affinities in unicyclic 4-state model\n",
      "A12 8.006167338950139\n",
      "A23 6.726178649659067\n",
      "A34 7.695664372246653\n",
      "A41 4.510529715796126\n"
     ]
    }
   ],
   "source": [
    "print('transition affinities in unicyclic 4-state model')\n",
    "A12=affinity(matrix=wcg2, p=pcg2, state1=1-i, state2=2-i)\n",
    "print('A12 ' +str(A12))\n",
    "A23=affinity(matrix=wcg2, p=pcg2, state1=2-i, state2=3-i)\n",
    "print('A23 ' +str(A23))\n",
    "A34=affinity(matrix=wcg2, p=pcg2, state1=3-i, state2=4-i)\n",
    "print('A34 ' +str(A34))\n",
    "A41=affinity(matrix=wcg2, p=pcg2, state1=4-i, state2=1-i)\n",
    "print('A41 ' +str(A41))"
   ]
  },
  {
   "cell_type": "markdown",
   "metadata": {},
   "source": [
    "# in unicylic 4-state model edege 4->1 will be eliminated\n",
    "## wcg3"
   ]
  },
  {
   "cell_type": "code",
   "execution_count": 12,
   "metadata": {},
   "outputs": [
    {
     "name": "stdout",
     "output_type": "stream",
     "text": [
      "[[0.00000000e+00 1.80000000e+00 0.00000000e+00 2.00000000e-02]\n",
      " [8.84398269e-01 0.00000000e+00 2.65496280e+03 0.00000000e+00]\n",
      " [0.00000000e+00 2.40000000e-01 0.00000000e+00 2.00000000e+02]\n",
      " [2.00000000e+02 0.00000000e+00 9.00000000e-02 0.00000000e+00]]\n",
      "[[0.00000000e+00 1.80000000e+00 0.00000000e+00 2.00000000e-02]\n",
      " [8.84398269e-01 0.00000000e+00 2.65496280e+03 0.00000000e+00]\n",
      " [0.00000000e+00 2.40000000e-01 0.00000000e+00 2.00000000e+02]]\n",
      "[[0.00000000e+00 1.80000000e+00 0.00000000e+00]\n",
      " [8.84398269e-01 0.00000000e+00 2.65496280e+03]\n",
      " [0.00000000e+00 2.40000000e-01 0.00000000e+00]]\n",
      "\n",
      "[[0.00000000e+00 1.78377302e+00 8.11349104e-04]\n",
      " [8.84398269e-01 0.00000000e+00 2.65496280e+03]\n",
      " [2.00000000e+02 2.40000000e-01 0.00000000e+00]]\n",
      "[9.90498746e-01 6.66056912e-04 8.83519759e-03]\n",
      "[9.81569409e-01 6.66056912e-04 8.83519759e-03 8.92933633e-03]\n",
      "P1=dS/dt= -1.3322676295501878e-15\n",
      "P2(copling to set of thermodynamic forces)= 39.613156547656175\n",
      "39.613156547656175\n",
      "0.1674377936948953\n",
      "\n",
      "flux in unicyclic 3-state modekl\n",
      "1.7662358769369024\n"
     ]
    }
   ],
   "source": [
    "# I start counting from 0\n",
    "i=1\n",
    "#copying\n",
    "wcg3=wcg2\n",
    "print(wcg3)\n",
    "#sclicing: delete 4-1 th row (dim=0)\n",
    "#numpy.delete(arr, obj, axis=None)\n",
    "wcg3=  np.delete(wcg3, 4-1, 0)\n",
    "print(wcg3)\n",
    "wcg3=np.delete(wcg3, 4-1, 1) #delete 4-1 th column (dim=1)\n",
    "print(wcg3)\n",
    "# new rates\n",
    "wcg3[1-i][2-i]=(wcg2[1-i][2-i]*pcg2[1-i])/(pcg2[1-i]+pcg2[4-i])\n",
    "wcg3[1-i][3-i]=(wcg2[4-i][3-i]*pcg2[4-i])/(pcg2[1-i]+pcg2[4-i])\n",
    "wcg3[3-i][1-i]=wcg2[3-i][4-i]\n",
    "\n",
    "print()\n",
    "print(wcg3)\n",
    "Gcg3=auto.Matrix2Graph(wcg3)\n",
    "pcg3=auto.steady_state(Gcg3)\n",
    "print(pcg3)\n",
    "print(pcg2)\n",
    "P_3state=entropyProduction(matrix=wcg3, p=pcg3)\n",
    "print(P_3state)\n",
    "print((P_4state-P_3state)/P_4state)\n",
    "\n",
    "print()\n",
    "print('flux in unicyclic 3-state modekl')\n",
    "flux_3state=wcg3[2-i][3-i]*pcg3[2-i]-wcg3[3-i][2-i]*pcg3[3-i]\n",
    "print(flux_3state)"
   ]
  },
  {
   "cell_type": "markdown",
   "metadata": {},
   "source": [
    "# Make 2-state model \n",
    "## wcg4"
   ]
  },
  {
   "cell_type": "code",
   "execution_count": 14,
   "metadata": {},
   "outputs": [
    {
     "name": "stdout",
     "output_type": "stream",
     "text": [
      "[0.9904987455018437, 0.00950125449815637]\n",
      "[9.90498746e-01 6.66056912e-04 8.83519759e-03]\n",
      "\n",
      "flux in equilibrium 2-state modekl\n",
      "2.220446049250313e-16\n"
     ]
    }
   ],
   "source": [
    "wcg4=np.zeros((2,2))\n",
    "wcg4[2-i][1-i]=(wcg3[2-i][1-i]*pcg3[2-i]+wcg3[3-i][1-i]*pcg3[3-i])/(pcg3[2-i]+pcg3[3-i])\n",
    "wcg4[1-i][2-i]=wcg3[1-i][2-i]+wcg3[1-i][3-i]\n",
    "pcg4=[wcg4[2-i][1-i]/(wcg4[2-i][1-i]+wcg4[1-i][2-i]), wcg4[1-i][2-i]/(wcg4[2-i][1-i]+wcg4[1-i][2-i])]\n",
    "print(pcg4)\n",
    "print(pcg3)\n",
    "\n",
    "print()\n",
    "print('flux in equilibrium 2-state modekl')\n",
    "flux_2state=wcg4[1-i][2-i]*pcg4[1-i]-wcg4[2-i][1-i]*pcg4[2-i]\n",
    "print(flux_2state)"
   ]
  },
  {
   "cell_type": "code",
   "execution_count": 15,
   "metadata": {},
   "outputs": [
    {
     "name": "stdout",
     "output_type": "stream",
     "text": [
      "fluxes\n",
      "[1.765058293576666, 1.765058293576666, 1.7662358769369022, 1.7662358769369024, 2.220446049250313e-16]\n"
     ]
    }
   ],
   "source": [
    "print('fluxes')\n",
    "print([flux_6state,flux_5state,flux_4state,flux_3state, flux_2state])"
   ]
  },
  {
   "cell_type": "code",
   "execution_count": 16,
   "metadata": {},
   "outputs": [
    {
     "name": "stdout",
     "output_type": "stream",
     "text": [
      "[ 0.         -0.1665551  -0.33269177 -0.33202807  0.33333333]\n",
      "[0.0, 0.0, 0.0006671640050198444, 0.0006671640050199702, 0.9999999999999999]\n"
     ]
    }
   ],
   "source": [
    "CG_nodes=[0,1/6,2/6,3/6,4/6]\n",
    "CG_Entropy=[0, (P_6state-P_5state)/P_6state, (P_6state-P_4state)/P_6state, (P_6state-P_3state)/P_6state, (P_6state-0)/P_6state]\n",
    "diff=np.array(CG_Entropy)-np.array(CG_nodes)\n",
    "print(diff)\n",
    "CG_fluxes=[flux_6state-flux_6state,(flux_5state-flux_6state)/flux_6state,(flux_4state-flux_6state)/flux_6state,(flux_3state-flux_6state)/flux_6state, (flux_6state-flux_2state)/flux_6state]\n",
    "print(CG_fluxes)"
   ]
  },
  {
   "cell_type": "code",
   "execution_count": 17,
   "metadata": {},
   "outputs": [
    {
     "name": "stdout",
     "output_type": "stream",
     "text": [
      "(0.0, 0.67)\n"
     ]
    },
    {
     "name": "stderr",
     "output_type": "stream",
     "text": [
      "The PostScript backend does not support transparency; partially transparent artists will be rendered opaque.\n",
      "The PostScript backend does not support transparency; partially transparent artists will be rendered opaque.\n"
     ]
    },
    {
     "data": {
      "image/png": "[encoded data removed]",
      "text/plain": [
       "<Figure size 432x288 with 2 Axes>"
      ]
     },
     "metadata": {
      "needs_background": "light"
     },
     "output_type": "display_data"
    }
   ],
   "source": [
    "f_size = 16\n",
    "legend_size = 11\n",
    "\n",
    "fig, axs = plt.subplots(1,1)\n",
    "axs.set_ylabel('Fractional change', fontsize=f_size)\n",
    "axs.set_xlabel('Coarse-grained nodes  $\\dfrac{\\Delta N}{N_0}$', fontsize=f_size)\n",
    "#fig.suptitle('Zero external load force')\n",
    "    \n",
    "axs.plot(CG_nodes, CG_Entropy, label='$\\dfrac{\\Delta P}{P_0}$', linestyle='--')\n",
    "axs.plot(CG_nodes, CG_nodes, label='$\\dfrac{\\Delta N}{N_0}$', linestyle='dotted')\n",
    "axs.plot(CG_nodes, diff, label='$\\dfrac{\\Delta P}{P_0}$ - $\\dfrac{\\Delta N}{N_0}$')\n",
    "\n",
    "axs.arrow( x=0.5, y=-0., dx=0, dy=-0.2,  head_width=0.02, head_length=0.1, fc='k', ec='k')  \n",
    "axs.legend(prop={'size': legend_size}, loc='upper left')\n",
    "    \n",
    "#plot iteration\n",
    "itera1=[[1/6,1/6], [-0.6, 1.1]]\n",
    "itera2=[[2/6,2/6], [-0.6, 1.1]]\n",
    "itera3=[[3/6,3/6], [-0.6, 1.1]]\n",
    "itera4=[[4/6,4/6], [-0.6, 1.1]]\n",
    "axs.plot(itera1[0], itera1[1], linestyle=':', color='black')\n",
    "axs.plot(itera2[0], itera2[1], linestyle=':', color='black')\n",
    "axs.plot(itera3[0], itera3[1], linestyle=':', color='black')\n",
    "axs.plot(itera4[0], itera4[1], linestyle=':', color='black')\n",
    "axs.set_ylim([-0.4,1.1])\n",
    "axs.set_xlim([-0,0.67])\n",
    "axs.tick_params(axis='both', labelsize=f_size)\n",
    "    \n",
    "ax2 = axs.twiny()\n",
    "ax2.tick_params(axis='both', labelsize=f_size)\n",
    "print(axs.get_xlim())\n",
    "new_tick_locations = np.array([0,1,2,3,4])\n",
    "ax2.set_xticks(new_tick_locations)\n",
    "#ax2.set_xticklabels(tick_function(new_tick_locations))\n",
    "ax2.set_xlabel(r\"Coarse-graining iteration\", fontsize=f_size)\n",
    "plt.text(2.3, -0.15, 'Heuristic \\nsweet spot')\n",
    "\n",
    "fig.tight_layout()\n",
    "fig.savefig('Iteratives_CG_Kinesin_Force=0.eps',bbox_inches=\"tight\")\n",
    "plt.show()"
   ]
  },
  {
   "cell_type": "code",
   "execution_count": 18,
   "metadata": {},
   "outputs": [
    {
     "name": "stdout",
     "output_type": "stream",
     "text": [
      "(0.0, 0.67)\n"
     ]
    },
    {
     "name": "stderr",
     "output_type": "stream",
     "text": [
      "The PostScript backend does not support transparency; partially transparent artists will be rendered opaque.\n",
      "The PostScript backend does not support transparency; partially transparent artists will be rendered opaque.\n"
     ]
    },
    {
     "data": {
      "image/png": "[encoded data removed]",
      "text/plain": [
       "<Figure size 432x288 with 2 Axes>"
      ]
     },
     "metadata": {
      "needs_background": "light"
     },
     "output_type": "display_data"
    }
   ],
   "source": [
    "fig, axs = plt.subplots(1,1)\n",
    "axs.set_ylabel('Fractional change', fontsize=f_size)\n",
    "axs.set_xlabel('Coarse-grained nodes  $\\dfrac{\\Delta N}{N_0}$', fontsize=f_size)\n",
    "#fig.suptitle('Zero external load force')\n",
    "\n",
    "axs.plot(CG_nodes, CG_Entropy, label='Entropy $\\dfrac{\\Delta P}{P_0}$', linestyle='--')\n",
    "axs.plot(CG_nodes, CG_fluxes, label='Velocity $\\dfrac{\\Delta v}{v_0}$', color='purple')\n",
    "\n",
    "axs.legend(prop={'size': f_size}, loc='upper left')\n",
    "\n",
    "#plot iteration\n",
    "itera1=[[1/6,1/6], [-0.6, 1.1]]\n",
    "itera2=[[2/6,2/6], [-0.6, 1.1]]\n",
    "itera3=[[3/6,3/6], [-0.6, 1.1]]\n",
    "itera4=[[4/6,4/6], [-0.6, 1.1]]\n",
    "axs.plot(itera1[0], itera1[1], linestyle=':', color='black')\n",
    "axs.plot(itera2[0], itera2[1], linestyle=':', color='black')\n",
    "axs.plot(itera3[0], itera3[1], linestyle=':', color='black')\n",
    "axs.plot(itera4[0], itera4[1], linestyle=':', color='black')\n",
    "axs.set_ylim([-0.0001,0.004])\n",
    "#axs.set_ylim([-0.001,0.25])\n",
    "axs.set_xlim([-0,0.67])\n",
    "#axs.ticklabel_format(axis='y',style='sci', scilimits=(0,2) )\n",
    "axs.tick_params(axis='both', labelsize=f_size)\n",
    "\n",
    "import matplotlib.ticker as mtick\n",
    "axs.yaxis.set_major_formatter(mtick.FormatStrFormatter('%.3f'))\n",
    "\n",
    "ax2 = axs.twiny()\n",
    "ax2.tick_params(axis='x', labelsize=f_size)\n",
    "print(axs.get_xlim())\n",
    "new_tick_locations = np.array([0,1,2,3,4])\n",
    "ax2.set_xticks(new_tick_locations)\n",
    "#ax2.set_xticklabels(tick_function(new_tick_locations))\n",
    "ax2.set_xlabel(r\"Coarse-graining iteration\", fontsize=f_size)\n",
    "#plt.text(2.3, -0.25, 'Heuristic \\nsweet spot')\n",
    "\n",
    "#axs.arrow( x=2/6, y=0.002, dx=0, dy=0.0004,  head_width=0.01, head_length=0.0001, fc='k', ec='k')\n",
    "#plt.text(1.12, 0.002, 'uni-cyclic\\nmodel ',fontsize=14)\n",
    "\n",
    "fig.tight_layout()\n",
    "fig.savefig('Iteratives_CG_Kinesin_Force=0_velocity.eps',bbox_inches=\"tight\")\n",
    "plt.show()"
   ]
  },
  {
   "cell_type": "code",
   "execution_count": null,
   "metadata": {},
   "outputs": [],
   "source": []
  }
 ],
 "metadata": {
  "kernelspec": {
   "display_name": "Python 3",
   "language": "python",
   "name": "python3"
  },
  "language_info": {
   "codemirror_mode": {
    "name": "ipython",
    "version": 3
   },
   "file_extension": ".py",
   "mimetype": "text/x-python",
   "name": "python",
   "nbconvert_exporter": "python",
   "pygments_lexer": "ipython3",
   "version": "3.8.5"
  }
 },
 "nbformat": 4,
 "nbformat_minor": 4
}
