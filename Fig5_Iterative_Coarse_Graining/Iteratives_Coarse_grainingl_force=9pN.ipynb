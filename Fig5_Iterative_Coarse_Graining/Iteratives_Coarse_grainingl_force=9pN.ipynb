{
 "cells": [
  {
   "cell_type": "markdown",
   "metadata": {},
   "source": [
    "# Different levels of coarse-grained models for an external load force larger than the stall force\n",
    "We consider a force above the stall force. The six-state model for the motor is iteratively coarse\n",
    "grained for an external load force F = 9 pN. In this situation,\n",
    "the molecular motor moves backward and the mean velocity\n",
    "is negative. The backward cycle is dominant. The transitions\n",
    "in the forward cycle contribute less to the entropy production\n",
    "than those in the backward cycle."
   ]
  },
  {
   "cell_type": "code",
   "execution_count": 1,
   "metadata": {},
   "outputs": [],
   "source": [
    "import numpy as np\n",
    "from matplotlib import pyplot as plt\n",
    "import math\n",
    "import time\n",
    "import random\n",
    "import networkx as nx\n",
    "import os\n",
    "\n",
    "import sys\n",
    "path='../Bibliotheken/'\n",
    "sys.path.append(path)\n",
    "\n",
    "import Steady_State_Calculation_Spanning_Trees as auto\n",
    "import Kinesin_Parameters as Kinesin\n",
    "import PDF_Flux_entropy as PDF"
   ]
  },
  {
   "cell_type": "code",
   "execution_count": 2,
   "metadata": {},
   "outputs": [],
   "source": [
    "Force=9e-12\n",
    "i=1"
   ]
  },
  {
   "cell_type": "code",
   "execution_count": 3,
   "metadata": {},
   "outputs": [],
   "source": [
    "def entropyProduction(matrix, p):\n",
    "    P1=0.\n",
    "    P2=0.\n",
    "    N=len(matrix)\n",
    "    #J=CG.NetFlux(matrix,p)\n",
    "    for i in range(N):\n",
    "        for j in range(N):\n",
    "            P1=P1+(matrix[j][i]*p[j]-matrix[i][j]*p[i])*math.log(p[j]/p[i])\n",
    "            if matrix[i][j]!=0:\n",
    "                P2=P2+((matrix[j][i]*p[j]-matrix[i][j]*p[i]))*math.log(matrix[j][i]/matrix[i][j])\n",
    "    P1=0.5*P1\n",
    "    P2=0.5*P2\n",
    "    print('P1=dS/dt= '+str(P1))\n",
    "    print('P2(copling to set of thermodynamic forces)= '+str(P2))\n",
    "    return P1+P2\n",
    "\n",
    "def affinity(matrix, p, state1, state2):\n",
    "    return np.log(matrix[state1][state2]*p[state1])-np.log(matrix[state2][state1]*p[state2])"
   ]
  },
  {
   "cell_type": "markdown",
   "metadata": {},
   "source": [
    "# 6-state model\n",
    "## minimal contribution edge  1->2\n"
   ]
  },
  {
   "cell_type": "code",
   "execution_count": 4,
   "metadata": {},
   "outputs": [
    {
     "name": "stdout",
     "output_type": "stream",
     "text": [
      "[3.81003765e-02 3.28987593e-04 4.24909219e-04 9.61128349e-01\n",
      " 6.78619697e-06 1.05914685e-05]\n",
      "P1=dS/dt= -1.9184957442131e-16\n",
      "P2(copling to set of thermodynamic forces)= 1.715343817745544\n",
      "\n",
      "flux in tri-cyclic 6-state modekl\n",
      "-0.03723143293549408\n",
      "\n",
      "transition affinities\n",
      "A12 0.7345758819234014\n",
      "A25 -0.08021654351002849\n",
      "A34 1.486352678298977\n",
      "\n",
      "entropy contribution\n",
      "1->2 0.0005759591902157212\n",
      "5->6 0.005693217234511353\n",
      "6->1 0.0008016411957848048\n",
      "2->5 0.0029865768600107687\n",
      "3->4 0.05650444516852709\n"
     ]
    }
   ],
   "source": [
    "[w, w1]=Kinesin.Kinesin(force=Force)\n",
    "\n",
    "#calculate steady-state\n",
    "G=auto.Matrix2Graph(w)\n",
    "p=auto.steady_state(G)\n",
    "print(p)\n",
    "\n",
    "P_6state=entropyProduction(matrix=w, p=p)\n",
    "#EntropyProductionChords(w1, p)\n",
    "\n",
    "print()\n",
    "print('flux in tri-cyclic 6-state modekl')\n",
    "flux_6state=w[2-i][5-i]*p[2-i]-w[5-i][2-i]*p[5-i]\n",
    "print(flux_6state)\n",
    "\n",
    "print()\n",
    "print('transition affinities')\n",
    "A12=affinity(matrix=w, p=p, state1=1-i, state2=2-i)\n",
    "print('A12 ' +str(A12))\n",
    "A61=affinity(matrix=w, p=p, state1=6-i, state2=1-i)\n",
    "A56=affinity(matrix=w, p=p, state1=5-i, state2=6-i)\n",
    "\n",
    "A25=affinity(matrix=w, p=p, state1=2-i, state2=5-i)\n",
    "print('A25 ' +str(A25))\n",
    "A34=affinity(matrix=w, p=p, state1=3-i, state2=4-i)\n",
    "print('A34 ' +str(A34))\n",
    "\n",
    "print()\n",
    "J12=w[1-i][2-i]*p[1-i]-w[2-i][1-i]*p[2-i]\n",
    "J25=w[2-i][5-i]*p[2-i]-w[5-i][2-i]*p[5-i]\n",
    "J34=w[3-i][4-i]*p[3-i]-w[4-i][3-i]*p[4-i]\n",
    "print('entropy contribution')\n",
    "print('1->2 ' +str(A12*J12))\n",
    "print('5->6 ' +str(A56*J12))\n",
    "print('6->1 ' +str(A61*J12))\n",
    "print('2->5 ' +str(A25*J25))\n",
    "print('3->4 ' +str(A34*J34))"
   ]
  },
  {
   "cell_type": "markdown",
   "metadata": {},
   "source": [
    "# Wcg1\n",
    "## Merge states 1 and 2"
   ]
  },
  {
   "cell_type": "code",
   "execution_count": 5,
   "metadata": {},
   "outputs": [
    {
     "name": "stdout",
     "output_type": "stream",
     "text": [
      "\n",
      "[[0.00000000e+00 9.89805892e-01 0.00000000e+00 1.15997165e+01\n",
      "  1.14630393e-02]\n",
      " [5.20290895e-02 0.00000000e+00 1.15620199e+02 0.00000000e+00\n",
      "  0.00000000e+00]\n",
      " [0.00000000e+00 1.15620199e-02 0.00000000e+00 3.95529935e-02\n",
      "  0.00000000e+00]\n",
      " [7.11740557e+04 0.00000000e+00 1.40632866e-12 0.00000000e+00\n",
      "  1.15620199e+02]\n",
      " [1.15620199e+02 0.00000000e+00 0.00000000e+00 5.20290895e-02\n",
      "  0.00000000e+00]]\n",
      "[3.84293640e-02 4.24909219e-04 9.61128349e-01 6.78619697e-06\n",
      " 1.05914685e-05]\n",
      "[3.81003765e-02 3.28987593e-04 4.24909219e-04 9.61128349e-01\n",
      " 6.78619697e-06 1.05914685e-05]\n",
      "P1=dS/dt= 2.1459071498919347e-16\n",
      "P2(copling to set of thermodynamic forces)= 1.7147678585553279\n",
      "1.714767858555328\n",
      "0.0005759591902156913\n",
      "\n",
      "flux in tri-cyclic 5-state modekl\n",
      "-0.037231432935494024\n",
      "flux in tri-cyclic 6-state modekl\n",
      "-0.03723143293549408\n"
     ]
    }
   ],
   "source": [
    "#copying\n",
    "wcg1=w\n",
    "#print(wcg1)\n",
    "#sclicing: delete 1-1 th row (dim=0)\n",
    "#numpy.delete(arr, obj, axis=None)\n",
    "wcg1=  np.delete(wcg1, 1-1, 0)\n",
    "#print(wcg1)\n",
    "wcg1=np.delete(wcg1, 1-1, 1) #delete 3+1 th column (dim=1)\n",
    "#print(wcg1)\n",
    "# new rates\n",
    "wcg1[1-i][5-i]=w[1-i][6-i]*p[1-i]/(p[1-i]+p[2-i])\n",
    "wcg1[1-i][4-i]=w[2-i][5-i]*p[2-i]/(p[1-i]+p[2-i])\n",
    "wcg1[1-i][2-i]=w[2-i][3-i]*p[2-i]/(p[1-i]+p[2-i])\n",
    "wcg1[5-i][1-i]=w[6-i][1-i]\n",
    "print()\n",
    "print(wcg1)\n",
    "Gcg1=auto.Matrix2Graph(wcg1)\n",
    "pcg1=auto.steady_state(Gcg1)\n",
    "print(pcg1)\n",
    "print(p)\n",
    "P_5state=entropyProduction(matrix=wcg1, p=pcg1)\n",
    "print(P_5state)\n",
    "print(P_6state-P_5state)\n",
    "\n",
    "print()\n",
    "print('flux in tri-cyclic 5-state modekl')\n",
    "flux_5state=wcg1[1-i][4-i]*pcg1[1-i]-wcg1[4-i][1-i]*pcg1[4-i]\n",
    "print(flux_5state)\n",
    "print('flux in tri-cyclic 6-state modekl')\n",
    "flux_6state=w[2-i][5-i]*p[2-i]-w[5-i][2-i]*p[5-i]\n",
    "print(flux_6state)\n"
   ]
  },
  {
   "cell_type": "markdown",
   "metadata": {},
   "source": [
    "# Which edge will be eliminated next?\n",
    "## edge 5->1"
   ]
  },
  {
   "cell_type": "code",
   "execution_count": 6,
   "metadata": {},
   "outputs": [
    {
     "name": "stdout",
     "output_type": "stream",
     "text": [
      "entropy contribution\n",
      "1->2 0.2832309899020019\n",
      "2->3 0.056504445168527116\n",
      "3->4 1.3655509881944927\n",
      "4->5 0.005693217234511352\n",
      "5->1 0.0008016411957848038\n",
      "1->4 0.002986576860010756\n"
     ]
    }
   ],
   "source": [
    "A12=affinity(matrix=wcg1, p=pcg1, state1=1-i, state2=2-i)\n",
    "A23=affinity(matrix=wcg1, p=pcg1, state1=2-i, state2=3-i)\n",
    "A34=affinity(matrix=wcg1, p=pcg1, state1=3-i, state2=4-i)\n",
    "A45=affinity(matrix=wcg1, p=pcg1, state1=4-i, state2=5-i)\n",
    "A51=affinity(matrix=wcg1, p=pcg1, state1=5-i, state2=1-i)\n",
    "A14=affinity(matrix=wcg1, p=pcg1, state1=1-i, state2=4-i)\n",
    "\n",
    "J51=wcg1[5-i][1-i]*pcg1[5-i]-wcg1[1-i][5-i]*pcg1[1-i]\n",
    "J12=wcg1[1-i][2-i]*pcg1[1-i]-wcg1[2-i][1-i]*pcg1[2-i]\n",
    "J14=wcg1[1-i][4-i]*pcg1[1-i]-wcg1[4-i][1-i]*pcg1[4-i]\n",
    "print('entropy contribution')\n",
    "print('1->2 ' +str(A12*J12))\n",
    "print('2->3 ' +str(A23*J12))\n",
    "print('3->4 ' +str(A34*J12))\n",
    "print('4->5 ' +str(A45*J51))\n",
    "print('5->1 ' +str(A51*J51))\n",
    "print('1->4 ' +str(A14*J14))"
   ]
  },
  {
   "cell_type": "markdown",
   "metadata": {},
   "source": [
    "# wcg 2\n",
    "## coarse grain 5-1"
   ]
  },
  {
   "cell_type": "code",
   "execution_count": 7,
   "metadata": {},
   "outputs": [
    {
     "name": "stdout",
     "output_type": "stream",
     "text": [
      "\n",
      "[[0.00000000e+00 9.89533168e-01 0.00000000e+00 1.15965347e+01]\n",
      " [5.20290895e-02 0.00000000e+00 1.15620199e+02 0.00000000e+00]\n",
      " [0.00000000e+00 1.15620199e-02 0.00000000e+00 3.95529935e-02]\n",
      " [7.12896759e+04 0.00000000e+00 1.40632866e-12 0.00000000e+00]]\n",
      "[3.84399555e-02 4.24909219e-04 9.61128349e-01 6.78619697e-06]\n",
      "[3.84293640e-02 4.24909219e-04 9.61128349e-01 6.78619697e-06\n",
      " 1.05914685e-05]\n",
      "P1=dS/dt= 4.996003610813204e-16\n",
      "P2(copling to set of thermodynamic forces)= 1.708397553528008\n",
      "1.7083975535280085\n",
      "0.003714966428567491\n",
      "\n",
      "flux in unicyclic 4-state modekl\n",
      "-0.03801550331459169\n"
     ]
    }
   ],
   "source": [
    "#copying\n",
    "wcg2=wcg1\n",
    "#print(wcg2)\n",
    "#sclicing: delete 5-1 th row (dim=0)\n",
    "#numpy.delete(arr, obj, axis=None)\n",
    "wcg2=  np.delete(wcg2, 5-1, 0)\n",
    "#print(wcg2)\n",
    "wcg2=np.delete(wcg2, 5-1, 1) #delete 3+1 th column (dim=1)\n",
    "#print(wcg2)\n",
    "# new rates\n",
    "wcg2[1-i][2-i]=(wcg1[1-i][2-i]*pcg1[1-i])/(pcg1[1-i]+pcg1[5-i])\n",
    "wcg2[1-i][4-i]=(wcg1[1-i][4-i]*pcg1[1-i]+wcg1[5-i][4-i]*pcg1[5-i])/(pcg1[1-i]+pcg1[5-i])\n",
    "wcg2[4-i][1-i]=wcg1[4-i][1-i]+wcg1[4-i][5-i]\n",
    "print()\n",
    "print(wcg2)\n",
    "Gcg2=auto.Matrix2Graph(wcg2)\n",
    "pcg2=auto.steady_state(Gcg2)\n",
    "print(pcg2)\n",
    "print(pcg1)\n",
    "P_4state=entropyProduction(matrix=wcg2, p=pcg2)\n",
    "print(P_4state)\n",
    "print((P_5state-P_4state)/P_5state)\n",
    "\n",
    "print()\n",
    "print('flux in unicyclic 4-state modekl')\n",
    "flux_4state=wcg2[1-i][4-i]*pcg2[1-i]-wcg2[4-i][1-i]*pcg2[4-i]\n",
    "print(flux_4state)"
   ]
  },
  {
   "cell_type": "code",
   "execution_count": 8,
   "metadata": {},
   "outputs": [
    {
     "name": "stdout",
     "output_type": "stream",
     "text": [
      "entropy contribution\n",
      "1->2 0.28322051394074976\n",
      "2->3 0.05650444516852709\n",
      "3->4 1.3655509881944918\n",
      "4->1 0.0031216062242396562\n"
     ]
    }
   ],
   "source": [
    "A12=affinity(matrix=wcg2, p=pcg1, state1=1-i, state2=2-i)\n",
    "A23=affinity(matrix=wcg2, p=pcg1, state1=2-i, state2=3-i)\n",
    "A34=affinity(matrix=wcg2, p=pcg1, state1=3-i, state2=4-i)\n",
    "A41=affinity(matrix=wcg2, p=pcg1, state1=4-i, state2=1-i)\n",
    "\n",
    "J12=wcg2[1-i][2-i]*pcg2[1-i]-wcg2[2-i][1-i]*pcg2[2-i]\n",
    "print('entropy contribution')\n",
    "print('1->2 ' +str(A12*J12))\n",
    "print('2->3 ' +str(A23*J12))\n",
    "print('3->4 ' +str(A34*J12))\n",
    "print('4->1 ' +str(A41*J12))\n"
   ]
  },
  {
   "cell_type": "markdown",
   "metadata": {},
   "source": [
    "# Wcg3\n",
    "# merge 4->1"
   ]
  },
  {
   "cell_type": "code",
   "execution_count": 9,
   "metadata": {},
   "outputs": [
    {
     "name": "stdout",
     "output_type": "stream",
     "text": [
      "\n",
      "[[0.00000000e+00 9.89358506e-01 2.48229703e-16]\n",
      " [5.20290895e-02 0.00000000e+00 1.15620199e+02]\n",
      " [3.95529935e-02 1.15620199e-02 0.00000000e+00]]\n",
      "[3.84467417e-02 4.24909219e-04 9.61128349e-01]\n",
      "[3.84399555e-02 4.24909219e-04 9.61128349e-01 6.78619697e-06]\n",
      "P1=dS/dt= 0.0\n",
      "P2(copling to set of thermodynamic forces)= 1.705286423265021\n",
      "1.705286423265021\n",
      "0.0018210809635982002\n",
      "\n",
      "flux in unicyclic 3-state modekl\n",
      "-0.038015503314591755\n"
     ]
    }
   ],
   "source": [
    "#copying\n",
    "wcg3=wcg2\n",
    "#print(wcg3)\n",
    "#sclicing: delete 4-1 th row (dim=0)\n",
    "#numpy.delete(arr, obj, axis=None)\n",
    "wcg3=  np.delete(wcg3, 4-1, 0)\n",
    "#print(wcg3)\n",
    "wcg3=np.delete(wcg3, 4-1, 1) #delete 2-1 th column (dim=1)\n",
    "#print(wcg3)\n",
    "# new rates\n",
    "wcg3[1-i][3-i]=(wcg2[4-i][3-i]*pcg2[4-i])/(pcg2[1-i]+pcg2[4-i])\n",
    "wcg3[3-i][1-i]=wcg2[3-i][4-i]\n",
    "wcg3[1-i][2-i]=(wcg2[1-i][2-i]*pcg2[1-i])/(pcg2[1-i]+pcg2[4-i])\n",
    "print()\n",
    "print(wcg3)\n",
    "Gcg3=auto.Matrix2Graph(wcg3)\n",
    "pcg3=auto.steady_state(Gcg3)\n",
    "print(pcg3)\n",
    "print(pcg2)\n",
    "P_3state=entropyProduction(matrix=wcg3, p=pcg3)\n",
    "print(P_3state)\n",
    "print((P_4state-P_3state)/P_4state)\n",
    "\n",
    "print()\n",
    "print('flux in unicyclic 3-state modekl')\n",
    "flux_3state=wcg3[1-i][3-i]*pcg3[1-i]-wcg3[3-i][1-i]*pcg3[3-i]\n",
    "print(flux_3state)"
   ]
  },
  {
   "cell_type": "markdown",
   "metadata": {},
   "source": [
    "# Wcg4\n",
    "# Two state model"
   ]
  },
  {
   "cell_type": "code",
   "execution_count": 10,
   "metadata": {},
   "outputs": [
    {
     "name": "stdout",
     "output_type": "stream",
     "text": [
      "[0.03844674171468283, 0.9615532582853172]\n",
      "[3.84467417e-02 4.24909219e-04 9.61128349e-01]\n",
      "\n",
      "flux in equilibrium 2-state modekl\n",
      "0.0\n"
     ]
    }
   ],
   "source": [
    "wcg4=np.zeros((2,2))\n",
    "wcg4[2-i][1-i]=(wcg3[2-i][1-i]*pcg3[2-i]+wcg3[3-i][1-i]*pcg3[3-i])/(pcg3[2-i]+pcg3[3-i])\n",
    "wcg4[1-i][2-i]=wcg3[1-i][2-i]+wcg3[1-i][3-i]\n",
    "pcg4=[wcg4[2-i][1-i]/(wcg4[2-i][1-i]+wcg4[1-i][2-i]), wcg4[1-i][2-i]/(wcg4[2-i][1-i]+wcg4[1-i][2-i])]\n",
    "print(pcg4)\n",
    "print(pcg3)\n",
    "\n",
    "print()\n",
    "print('flux in equilibrium 2-state modekl')\n",
    "flux_2state=wcg4[1-i][2-i]*pcg4[1-i]-wcg4[2-i][1-i]*pcg4[2-i]\n",
    "print(flux_2state)"
   ]
  },
  {
   "cell_type": "code",
   "execution_count": 11,
   "metadata": {},
   "outputs": [
    {
     "name": "stdout",
     "output_type": "stream",
     "text": [
      "fluxes\n",
      "[-0.03723143293549408, -0.037231432935494024, -0.03801550331459169, -0.038015503314591755, 0.0]\n"
     ]
    }
   ],
   "source": [
    "print('fluxes')\n",
    "print([flux_6state,flux_5state,flux_4state,flux_3state, flux_2state])"
   ]
  },
  {
   "cell_type": "code",
   "execution_count": 12,
   "metadata": {},
   "outputs": [
    {
     "name": "stdout",
     "output_type": "stream",
     "text": [
      "[ 0.         -0.1663309  -0.32928385 -0.49413681  0.33333333]\n",
      "[0.0, -1.4909754165904537e-15, 0.021059366166649187, 0.021059366166650863, 1.0]\n"
     ]
    }
   ],
   "source": [
    "CG_nodes=[0,1/6,2/6,3/6,4/6]\n",
    "CG_Entropy=[0, (P_6state-P_5state)/P_6state, (P_6state-P_4state)/P_6state, (P_6state-P_3state)/P_6state, (P_6state-0)/P_6state]\n",
    "diff=np.array(CG_Entropy)-np.array(CG_nodes)\n",
    "print(diff)\n",
    "CG_fluxes=[flux_6state-flux_6state,abs(flux_5state-flux_6state)/flux_6state,(flux_4state-flux_6state)/flux_6state,(flux_3state-flux_6state)/flux_6state, (flux_6state-flux_2state)/flux_6state]\n",
    "print(CG_fluxes)"
   ]
  },
  {
   "cell_type": "code",
   "execution_count": 13,
   "metadata": {},
   "outputs": [
    {
     "name": "stdout",
     "output_type": "stream",
     "text": [
      "(0.0, 0.67)\n"
     ]
    },
    {
     "name": "stderr",
     "output_type": "stream",
     "text": [
      "The PostScript backend does not support transparency; partially transparent artists will be rendered opaque.\n",
      "The PostScript backend does not support transparency; partially transparent artists will be rendered opaque.\n"
     ]
    },
    {
     "data": {
      "image/png": "[encoded data removed]",
      "text/plain": [
       "<Figure size 432x288 with 2 Axes>"
      ]
     },
     "metadata": {
      "needs_background": "light"
     },
     "output_type": "display_data"
    }
   ],
   "source": [
    "f_size = 16\n",
    "legend_size = 11\n",
    "\n",
    "fig, axs = plt.subplots(1,1)\n",
    "#axs.set_ylabel('Fractional change', fontsize=f_size)\n",
    "axs.set_xlabel('Coarse-grained nodes  $\\dfrac{\\Delta N}{N_0}$', fontsize=f_size)\n",
    "#fig.suptitle('Zero external load force')\n",
    "    \n",
    "axs.plot(CG_nodes, CG_Entropy, label='$\\dfrac{\\Delta P}{P_0}$', linestyle='--')\n",
    "axs.plot(CG_nodes, CG_nodes, label='$\\dfrac{\\Delta N}{N_0}$', linestyle='dotted')\n",
    "axs.plot(CG_nodes, diff, label='$\\dfrac{\\Delta P}{P_0}$ - $\\dfrac{\\Delta N}{N_0}$')\n",
    "\n",
    "axs.arrow( x=0.5, y=-0.05, dx=0, dy=-0.2,  head_width=0.02, head_length=0.1, fc='k', ec='k')  \n",
    "axs.legend(prop={'size': legend_size}, loc='upper left')\n",
    "    \n",
    "#plot iteration\n",
    "itera1=[[1/6,1/6], [-0.6, 1.1]]\n",
    "itera2=[[2/6,2/6], [-0.6, 1.1]]\n",
    "itera3=[[3/6,3/6], [-0.6, 1.1]]\n",
    "itera4=[[4/6,4/6], [-0.6, 1.1]]\n",
    "axs.plot(itera1[0], itera1[1], linestyle=':', color='black')\n",
    "axs.plot(itera2[0], itera2[1], linestyle=':', color='black')\n",
    "axs.plot(itera3[0], itera3[1], linestyle=':', color='black')\n",
    "axs.plot(itera4[0], itera4[1], linestyle=':', color='black')\n",
    "axs.set_ylim([-0.55,1.1])\n",
    "axs.set_xlim([-0,0.67])\n",
    "axs.tick_params(axis='both', labelsize=f_size)\n",
    "    \n",
    "ax2 = axs.twiny()\n",
    "ax2.tick_params(axis='both', labelsize=f_size)\n",
    "print(axs.get_xlim())\n",
    "new_tick_locations = np.array([0,1,2,3,4])\n",
    "ax2.set_xticks(new_tick_locations)\n",
    "#ax2.set_xticklabels(tick_function(new_tick_locations))\n",
    "ax2.set_xlabel(r\"Coarse-graining iteration\", fontsize=f_size)\n",
    "plt.text(2.3, -0.25, 'Heuristic \\nsweet spot')\n",
    "\n",
    "fig.tight_layout()\n",
    "fig.savefig('Iteratives_CG_Kinesin_Force=9e-12N.eps',bbox_inches=\"tight\")\n",
    "plt.show()"
   ]
  },
  {
   "cell_type": "code",
   "execution_count": 14,
   "metadata": {},
   "outputs": [
    {
     "name": "stdout",
     "output_type": "stream",
     "text": [
      "(0.0, 0.67)\n"
     ]
    },
    {
     "name": "stderr",
     "output_type": "stream",
     "text": [
      "The PostScript backend does not support transparency; partially transparent artists will be rendered opaque.\n",
      "The PostScript backend does not support transparency; partially transparent artists will be rendered opaque.\n"
     ]
    },
    {
     "data": {
      "image/png": "[encoded data removed]",
      "text/plain": [
       "<Figure size 432x288 with 2 Axes>"
      ]
     },
     "metadata": {
      "needs_background": "light"
     },
     "output_type": "display_data"
    }
   ],
   "source": [
    "fig, axs = plt.subplots(1,1)\n",
    "#axs.set_ylabel('Fractional change', fontsize=f_size)\n",
    "axs.set_xlabel('Coarse-grained nodes  $\\dfrac{\\Delta N}{N_0}$', fontsize=f_size)\n",
    "   \n",
    "axs.plot(CG_nodes, CG_Entropy, label='Entropy $\\dfrac{\\Delta P}{P_0}$', linestyle='--')   \n",
    "axs.plot(CG_nodes, CG_fluxes, label='Velocity $\\dfrac{\\Delta v}{v_0}$', color='purple')\n",
    "#axs.plot(CG_nodes, diff, label='$\\dfrac{\\Delta P}{P_0}$ - $\\dfrac{\\Delta N}{N_0}$')\n",
    "\n",
    "    \n",
    "#plot iteration\n",
    "itera1=[[1/6,1/6], [-0.6, 1.1]]\n",
    "itera2=[[2/6,2/6], [-0.6, 1.1]]\n",
    "itera3=[[3/6,3/6], [-0.6, 1.1]]\n",
    "itera4=[[4/6,4/6], [-0.6, 1.1]]\n",
    "axs.plot(itera1[0], itera1[1], linestyle=':', color='black')\n",
    "axs.plot(itera2[0], itera2[1], linestyle=':', color='black')\n",
    "axs.plot(itera3[0], itera3[1], linestyle=':', color='black')\n",
    "axs.plot(itera4[0], itera4[1], linestyle=':', color='black')\n",
    "axs.set_ylim([-0.001,0.1])\n",
    "axs.set_xlim([-0,0.67])\n",
    "axs.legend(prop={'size': f_size}, loc='upper left')\n",
    "axs.tick_params(axis='both', labelsize=f_size)\n",
    "    \n",
    "ax2 = axs.twiny()\n",
    "ax2.tick_params(axis='both', labelsize=f_size)\n",
    "print(axs.get_xlim())\n",
    "new_tick_locations = np.array([0,1,2,3, 4])\n",
    "ax2.set_xticks(new_tick_locations)\n",
    "#ax2.set_xticklabels(tick_function(new_tick_locations))\n",
    "ax2.set_xlabel(r\"Coarse-graining iteration\", fontsize=f_size)\n",
    "#plt.text(2.3, -0.25, 'Heuristic \\nsweet spot')\n",
    "\n",
    "#axs.arrow( x=0.4, y=0.027, dx=0.05, dy=0.,  head_width=0.01, head_length=0.05, fc='k', ec='k')\n",
    "#plt.text(2.1, 0.118, 'uni-cyclic\\nmodel ',fontsize=15)\n",
    "#axs.arrow( x=2.5/6, y=0.15, dx=-0.5/6*0.9, dy=0.025,  head_width=0.007, head_length=0.01, fc='k', ec='k')\n",
    "#axs.arrow( x=2.5/6, y=0.15, dx=0.5/6*0.9, dy=0.025,  head_width=0.007, head_length=0.01, fc='k', ec='k')\n",
    "\n",
    "#plt.text(3.15, 0.118, 'two-state\\nmodel ',fontsize=15)\n",
    "#axs.arrow( x=3.5/6, y=0.15, dx=0.07, dy=0.025,  head_width=0.007, head_length=0.01, fc='k', ec='k')\n",
    "\n",
    "#axs.arrow( x=0.5/6, y=0.15, dx=-0.5/6*0.95, dy=0.025,  head_width=0.007, head_length=0.01, fc='k', ec='k')\n",
    "#axs.arrow( x=0.5/6, y=0.15, dx=0.5/6*0.95, dy=0.025,  head_width=0.007, head_length=0.01, fc='k', ec='k')\n",
    "#plt.text(0.15, 0.118, 'tri-cyclic\\nmodel ',fontsize=15)\n",
    "\n",
    "fig.tight_layout()\n",
    "fig.savefig('Iteratives_CG_Kinesin_Force=9e-12N_velocity.eps',bbox_inches=\"tight\")\n",
    "plt.show()"
   ]
  },
  {
   "cell_type": "code",
   "execution_count": null,
   "metadata": {},
   "outputs": [],
   "source": []
  }
 ],
 "metadata": {
  "kernelspec": {
   "display_name": "Python 3",
   "language": "python",
   "name": "python3"
  },
  "language_info": {
   "codemirror_mode": {
    "name": "ipython",
    "version": 3
   },
   "file_extension": ".py",
   "mimetype": "text/x-python",
   "name": "python",
   "nbconvert_exporter": "python",
   "pygments_lexer": "ipython3",
   "version": "3.8.5"
  }
 },
 "nbformat": 4,
 "nbformat_minor": 4
}
