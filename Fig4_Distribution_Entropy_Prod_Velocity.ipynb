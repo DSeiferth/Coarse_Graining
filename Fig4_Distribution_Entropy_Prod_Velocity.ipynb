{
 "cells": [
  {
   "cell_type": "markdown",
   "metadata": {},
   "source": [
    "# Distribution of Velocity and Entropy Production\n",
    "Simulation results for the velocity and the entropy production of a kinesin motor. The rate constants for the six-state model are from Liepelt and Lipowsky (2007) for chemical concentrations [AT P] = [ADP] = [P] = 1 μM, stepping size l = 8 nm and an external load force F = 1 pN. 10 000 trajectories have been sampled for each model with a simulation time τ = 1200 s."
   ]
  },
  {
   "cell_type": "code",
   "execution_count": 1,
   "metadata": {},
   "outputs": [
    {
     "name": "stdout",
     "output_type": "stream",
     "text": [
      "['Steady_State_Calculation_Spanning_Trees.py', 'Kinesin_Parameters.py', 'Analytic_Quantities.py', 'PDF_Flux_entropy.py', '__pycache__']\n"
     ]
    }
   ],
   "source": [
    "import numpy as np\n",
    "\n",
    "from matplotlib import pyplot as plt\n",
    "import math\n",
    "\n",
    "import time\n",
    "import random\n",
    "import networkx as nx\n",
    "import os\n",
    "\n",
    "import sys\n",
    "path='Bibliotheken/'\n",
    "res2 = os.listdir(path)\n",
    "print(res2)\n",
    "sys.path.append(path)\n",
    "\n",
    "import Steady_State_Calculation_Spanning_Trees as auto\n",
    "import Kinesin_Parameters as Kinesin\n",
    "import PDF_Flux_entropy as PDF\n",
    "import Analytic_Quantities as analytic"
   ]
  },
  {
   "cell_type": "code",
   "execution_count": null,
   "metadata": {},
   "outputs": [],
   "source": []
  },
  {
   "cell_type": "code",
   "execution_count": 2,
   "metadata": {},
   "outputs": [
    {
     "name": "stdout",
     "output_type": "stream",
     "text": [
      "[9.84661814e-01 8.15695405e-06 8.26721580e-06 1.13982003e-03\n",
      " 7.04334417e-03 7.13859798e-03]\n"
     ]
    }
   ],
   "source": [
    "path='Fig4_simulation_Kinesin_force=1pN'\n",
    "if not os.path.isdir(path):\n",
    "    os.makedirs(path)\n",
    "\n",
    "[w, w1] =Kinesin.Kinesin(force=1.e-12)\n",
    "\n",
    "#calculate steady-state\n",
    "G=auto.Matrix2Graph(w)\n",
    "p=auto.steady_state(G)\n",
    "print(p)"
   ]
  },
  {
   "cell_type": "markdown",
   "metadata": {},
   "source": [
    "# Which transitions have minimal contribution to entropy production?"
   ]
  },
  {
   "cell_type": "code",
   "execution_count": 3,
   "metadata": {},
   "outputs": [
    {
     "name": "stdout",
     "output_type": "stream",
     "text": [
      "entropy contribution\n",
      "forward cycle\n",
      "1->2 10.278492540395685\n",
      "5->6 10.290572462625734\n",
      "6->1 5.730046199903426\n",
      "mechanical tansition\n",
      "2->5 7.051698938284271\n",
      "backward cycle\n",
      "2->3 0.011917605358453416\n",
      "3->4 0.006636716331062018\n",
      "4->5 0.034451818947115444\n"
     ]
    }
   ],
   "source": [
    "i=1\n",
    "A12=analytic.affinity(matrix=w, p=p, state1=1-i, state2=2-i)\n",
    "A23=analytic.affinity(matrix=w, p=p, state1=2-i, state2=3-i)\n",
    "A34=analytic.affinity(matrix=w, p=p, state1=3-i, state2=4-i)\n",
    "A45=analytic.affinity(matrix=w, p=p, state1=4-i, state2=5-i)\n",
    "A56=analytic.affinity(matrix=w, p=p, state1=5-i, state2=6-i)\n",
    "A61=analytic.affinity(matrix=w, p=p, state1=6-i, state2=1-i)\n",
    "A25=analytic.affinity(matrix=w, p=p, state1=2-i, state2=5-i)\n",
    "\n",
    "J12=w[1-i][2-i]*p[1-i]-w[2-i][1-i]*p[2-i]\n",
    "J25=w[2-i][5-i]*p[2-i]-w[5-i][2-i]*p[5-i]\n",
    "J34=w[3-i][4-i]*p[3-i]-w[4-i][3-i]*p[4-i]\n",
    "print('entropy contribution')\n",
    "print('forward cycle')\n",
    "print('1->2 ' +str(A12*J12))\n",
    "print('5->6 ' +str(A56*J12))\n",
    "print('6->1 ' +str(A61*J12))\n",
    "print('mechanical tansition')\n",
    "print('2->5 ' +str(A25*J25))\n",
    "print('backward cycle')\n",
    "print('2->3 ' +str(A23*J34))\n",
    "print('3->4 ' +str(A34*J34))\n",
    "print('4->5 ' +str(A45*J34))"
   ]
  },
  {
   "cell_type": "markdown",
   "metadata": {},
   "source": [
    "### Transitions with minimal contribution to entropy production\n",
    "In forward cycle transition 6->1,\n",
    "in backward cycle transition 3->4 \n",
    "has the minimal contribution to entropy production."
   ]
  },
  {
   "cell_type": "code",
   "execution_count": 4,
   "metadata": {},
   "outputs": [
    {
     "name": "stdout",
     "output_type": "stream",
     "text": [
      "\n",
      "[9.84661814e-01 8.15695405e-06 1.14808724e-03 7.04334417e-03\n",
      " 7.13859798e-03]\n",
      "[9.84661814e-01 8.15695405e-06 8.26721580e-06 1.13982003e-03\n",
      " 7.04334417e-03 7.13859798e-03]\n",
      "P1=dS/dt= 8.411674135011538e-15\n",
      "P2(copling to set of thermodynamic forces)= 33.403816281845735\n",
      "P1=dS/dt= -1.2871648191747909e-15\n",
      "P2(copling to set of thermodynamic forces)= 33.39717956551469\n",
      "33.39717956551469\n",
      "0.006636716331051673\n",
      "\n",
      "flux in tri-cyclic 5-state modekl\n",
      "1.3361344681319691\n",
      "flux in tri-cyclic 6-state modekl\n",
      "1.3361344681319687\n",
      "[[0.00000000e+00 1.35914641e+00 0.00000000e+00 0.00000000e+00\n",
      "  1.90008325e-02]\n",
      " [7.55081338e+01 0.00000000e+00 1.90008325e+02 1.64643491e+05\n",
      "  0.00000000e+00]\n",
      " [0.00000000e+00 6.15700527e-04 0.00000000e+00 1.34935938e+00\n",
      "  0.00000000e+00]\n",
      " [0.00000000e+00 9.73247992e-01 4.83252056e-11 0.00000000e+00\n",
      "  1.90008325e+02]\n",
      " [1.90008325e+02 0.00000000e+00 0.00000000e+00 8.55037463e-02\n",
      "  0.00000000e+00]]\n",
      "\n",
      "[9.91800412e-01 8.15695405e-06 1.14808724e-03 7.04334417e-03]\n",
      "[9.84661814e-01 8.15695405e-06 1.14808724e-03 7.04334417e-03\n",
      " 7.13859798e-03]\n",
      "P1=dS/dt= 3.804031742382641e-15\n",
      "P2(copling to set of thermodynamic forces)= 27.667133365611253\n",
      "27.667133365611257\n",
      "0.17157275777323944\n",
      "\n",
      "flux in tri-cyclic 4-state modekl\n",
      "1.3361344681319685\n",
      "1.3361344681319691\n"
     ]
    }
   ],
   "source": [
    "# coarse graining \n",
    "# I start counting from 0\n",
    "\n",
    "i=1\n",
    "#copying\n",
    "wcg1=w\n",
    "#print(w_copy)\n",
    "#sclicing: delete 3+1 th row (dim=0)\n",
    "#numpy.delete(arr, obj, axis=None)\n",
    "wcg1=  np.delete(wcg1, 3, 0)\n",
    "#print(wcg1)\n",
    "wcg1=np.delete(wcg1, 3, 1) #delete 3+1 th column (dim=1)\n",
    "#print(wcg1)\n",
    "# new rates\n",
    "wcg1[3-i][2-i]=w[3-i][2-i]*p[3-i]/(p[3-i]+p[4-i])\n",
    "wcg1[3-i][4-i]=w[4-i][5-i]*p[4-i]/(p[3-i]+p[4-i])\n",
    "wcg1[4-i][3-i]=w[5-i][4-i]\n",
    "print()\n",
    "#print(wcg1)\n",
    "Gcg1=auto.Matrix2Graph(wcg1)\n",
    "pcg1=auto.steady_state(Gcg1)\n",
    "print(pcg1)\n",
    "print(p)\n",
    "P_6state=analytic.entropyProduction(matrix=w, p=p)\n",
    "P_5state=analytic.entropyProduction(matrix=wcg1, p=pcg1)\n",
    "print(P_5state)\n",
    "print(P_6state-P_5state)\n",
    "\n",
    "print()\n",
    "print('flux in tri-cyclic 5-state modekl')\n",
    "flux_5state=wcg1[2-i][4-i]*pcg1[2-i]-wcg1[4-i][2-i]*pcg1[4-i]\n",
    "print(flux_5state)\n",
    "print('flux in tri-cyclic 6-state modekl')\n",
    "flux_6state=w[2-i][5-i]*p[2-i]-w[5-i][2-i]*p[5-i]\n",
    "print(flux_6state)\n",
    "\n",
    "#copying\n",
    "wcg2=wcg1\n",
    "print(wcg2)\n",
    "#sclicing: delete 5 th row (dim=0)\n",
    "#numpy.delete(arr, obj, axis=None)\n",
    "wcg2=  np.delete(wcg2, 5-1, 0)\n",
    "#print(wcg2)\n",
    "wcg2=np.delete(wcg2, 5-1, 1) #delete 5 th column (dim=1)\n",
    "#print(wcg2)\n",
    "# new rates\n",
    "wcg2[1-i][2-i]=(wcg1[1-i][2-i]*pcg1[1-i])/(pcg1[1-i]+pcg1[5-i])\n",
    "wcg2[1-i][4-i]=wcg1[5-i][4-i]*pcg1[5-i]/(pcg1[1-i]+pcg1[5-i])\n",
    "wcg2[4-i][1-i]=wcg1[4-i][5-i]\n",
    "print()\n",
    "#print(wcg2)\n",
    "Gcg2=auto.Matrix2Graph(wcg2)\n",
    "pcg2=auto.steady_state(Gcg2)\n",
    "print(pcg2)\n",
    "print(pcg1)\n",
    "P_4state=analytic.entropyProduction(matrix=wcg2, p=pcg2)\n",
    "print(P_4state)\n",
    "print((P_5state-P_4state)/P_5state)\n",
    "\n",
    "print()\n",
    "print('flux in tri-cyclic 4-state modekl')\n",
    "flux_4state=wcg2[2-i][4-i]*pcg2[2-i]-wcg2[4-i][2-i]*pcg2[4-i]\n",
    "print(flux_4state)\n",
    "print(flux_5state)"
   ]
  },
  {
   "cell_type": "markdown",
   "metadata": {},
   "source": [
    "### Analytic quantities"
   ]
  },
  {
   "cell_type": "code",
   "execution_count": 5,
   "metadata": {},
   "outputs": [
    {
     "name": "stdout",
     "output_type": "stream",
     "text": [
      "forward cycle F\n",
      "[1.3361423664164356, 1.9745661803217997e-11]\n",
      "1.6538520984503306e-10\n",
      "\n",
      "backward cycle B\n",
      "[7.898264721287198e-06, 2.1378277862662965e-18]\n",
      "1.6538520984503306e-10\n",
      "\n",
      "dissipative cycle D\n",
      "[0.0015412840328531269, 6.165136131412507e-27]\n",
      "6.401174670719003e-13\n",
      "\n",
      "mean and variance for 1200 s\n",
      "1.3361344681319685\n",
      "0.001113458553917419\n",
      "33.40381628184575\n"
     ]
    }
   ],
   "source": [
    "normierung=auto.Normfactor(G)\n",
    "print('forward cycle F')\n",
    "zuflussF=(w1[4][5]*w1[3][2]+w1[3][4]*w1[4][5]+w1[4][3]*w1[3][2])\n",
    "JF_plus=w1[1][2]*w1[2][5]*w1[5][6]*w1[6][1]*zuflussF/normierung\n",
    "JF_minus=w1[1][6]*w1[6][5]*w1[5][2]*w1[2][1]*zuflussF/normierung\n",
    "print([JF_plus, JF_minus])\n",
    "print(zuflussF/normierung)\n",
    "print()\n",
    "\n",
    "print('backward cycle B')\n",
    "zuflussB=(w1[1][2]*w1[6][5]+w1[6][1]*w1[1][2]+w1[1][6]*w1[6][5])\n",
    "JB_plus=w1[2][3]*w1[3][4]*w1[4][5]*w1[5][2]*zuflussB/normierung\n",
    "JB_minus=w1[2][5]*w1[5][4]*w1[4][3]*w1[3][2]*zuflussB/normierung\n",
    "print([JB_plus, JB_minus])\n",
    "print(zuflussB/normierung)\n",
    "print()\n",
    "\n",
    "print('dissipative cycle D')\n",
    "zuflussD=1.0\n",
    "JD_plus=w1[1][2]*w1[2][3]*w1[3][4]*w1[4][5]*w1[5][6]*w1[6][1]*zuflussD/normierung\n",
    "JD_minus=w1[1][6]*w1[6][5]*w1[5][4]*w1[4][3]*w1[3][2]*w1[2][1]*zuflussD/normierung\n",
    "print([JD_plus, JD_minus])\n",
    "print(zuflussD/normierung)\n",
    "print()\n",
    "\n",
    "print('mean and variance for 1200 s')\n",
    "print(JF_plus-JF_minus-JB_plus+JB_minus)\n",
    "print((JF_plus+JF_minus+JB_plus+JB_minus)/12e2)\n",
    "\n",
    "#Entropyproduction\n",
    "J12=w1[1][2]*p[1-1]-w1[2][1]*p[2-1]\n",
    "J23=w1[2][3]*p[2-1]-w1[3][2]*p[3-1]\n",
    "DeltaS_F=np.log(w1[1][2]*w1[2][5]*w1[5][6]*w1[6][1])-np.log(w1[1][6]*w1[6][5]*w1[5][2]*w1[2][1])\n",
    "DeltaS_B=np.log(w1[2][3]*w1[3][4]*w1[4][5]*w1[5][2])-np.log(w1[2][5]*w1[5][4]*w1[4][3]*w1[3][2])\n",
    "P=J12*DeltaS_F+J23*DeltaS_B\n",
    "print(P)"
   ]
  },
  {
   "cell_type": "code",
   "execution_count": 6,
   "metadata": {},
   "outputs": [],
   "source": [
    "#Varianz Entropieproduktion\n",
    "def stat_P(time, w1, p):\n",
    "    J12=w1[1][2]*p[1-1]-w1[2][1]*p[2-1]\n",
    "    J23=w1[2][3]*p[2-1]-w1[3][2]*p[3-1]\n",
    "    DeltaS_F=np.log(w1[1][2]*w1[2][5]*w1[5][6]*w1[6][1])-np.log(w1[1][6]*w1[6][5]*w1[5][2]*w1[2][1])\n",
    "    DeltaS_B=np.log(w1[2][3]*w1[3][4]*w1[4][5]*w1[5][2])-np.log(w1[2][5]*w1[5][4]*w1[4][3]*w1[3][2])\n",
    "    print('Affinities')\n",
    "    print([DeltaS_F, DeltaS_B])\n",
    "    P=J12*DeltaS_F+J23*DeltaS_B\n",
    "    print(P)\n",
    "    term1=(JF_plus+JF_minus+JD_plus+JD_minus)*(DeltaS_F/time)*(DeltaS_F)\n",
    "    term2=(JB_plus+JB_minus+JD_plus+JD_minus)*(DeltaS_B/time)*(DeltaS_B)\n",
    "    var=term1+term2\n",
    "    print(var)\n",
    "    return P, var\n",
    "\n",
    "#Geschwindikgeit \n",
    "def stat_velo(time, w1, p):\n",
    "    print('mean and variance of velocity')\n",
    "    # indices mit null startend\n",
    "    velo=w[1][4]*p[1]-w[4][1]*p[4]\n",
    "    print(velo)\n",
    "    var_velo=(JF_plus+JF_minus+JB_plus+JB_minus)/time\n",
    "    print(var_velo)\n",
    "    #calculate velocity variance with transition fluxes\n",
    "    var_transition=(w[1][4]*p[1]+w[4][1]*p[4])/time\n",
    "    print(var_transition)\n",
    "    print('Difference between variances calculated with cycles and transition fluxes')\n",
    "    print(var_velo-var_transition)\n",
    "    return velo, var_velo\n",
    "\n",
    "def gaussian(x, mu, sigma):\n",
    "    return 1./(np.sqrt(2*3.1415)*sigma)*np.exp(-(x-mu)*(x-mu)/(2*sigma*sigma))"
   ]
  },
  {
   "cell_type": "code",
   "execution_count": 7,
   "metadata": {},
   "outputs": [
    {
     "name": "stdout",
     "output_type": "stream",
     "text": [
      "forward cycle F\n",
      "[1.3361423678265838, 1.4315203413719215e-09]\n",
      "3.1652388457542855e-08\n",
      "\n",
      "backward cycle F\n",
      "[7.898263094635988e-06, 1.550585142025624e-16]\n",
      "3.165248535544053e-08\n",
      "\n",
      "dissipative cycle D\n",
      "[0.0015412840344799312, 3.2418393539298297e-23]\n",
      "2.3446646395509876e-08\n",
      "\n"
     ]
    }
   ],
   "source": [
    "# Analytisch coarse grained 4 state model\n",
    "CGnormierung=auto.Normfactor(Gcg2)\n",
    "print('forward cycle F')\n",
    "i=1\n",
    "CGzuflussF=(wcg2[3-i][4-i]+wcg2[3-i][2-i])\n",
    "CGJF_plus=wcg2[0][1]*wcg2[1][3]*wcg2[3][0]*CGzuflussF/CGnormierung\n",
    "CGJF_minus=wcg2[1][0]*wcg2[0][3]*wcg2[3][1]*CGzuflussF/CGnormierung\n",
    "print([CGJF_plus, CGJF_minus])\n",
    "print(CGzuflussF/CGnormierung)\n",
    "print()\n",
    "\n",
    "print('backward cycle F')\n",
    "CGzuflussB=(wcg2[0][1]+wcg2[0][3])\n",
    "CGJB_plus=wcg2[1][2]*wcg2[2][3]*wcg2[3][1]*CGzuflussB/CGnormierung\n",
    "CGJB_minus=wcg2[1][3]*wcg2[3][2]*wcg2[2][1]*CGzuflussB/CGnormierung\n",
    "print([CGJB_plus, CGJB_minus])\n",
    "print(CGzuflussB/CGnormierung)\n",
    "print()\n",
    "\n",
    "print('dissipative cycle D')\n",
    "CGzuflussD=1.0\n",
    "CGJD_plus=wcg2[0][1]*wcg2[1][2]*wcg2[2][3]*wcg2[3][0]*CGzuflussD/CGnormierung\n",
    "CGJD_minus=wcg2[0][3]*wcg2[3][2]*wcg2[2][1]*wcg2[1][0]*CGzuflussD/CGnormierung\n",
    "print([CGJD_plus, CGJD_minus])\n",
    "print(CGzuflussD/CGnormierung)\n",
    "print()\n",
    "\n",
    "def stat_PCG(time, w1, p):\n",
    "    i=1\n",
    "    CGJ12=w1[1-i][2-i]*p[1-i]-w1[2-i][1-i]*p[2-i]\n",
    "    CGJ23=w1[2-i][3-i]*p[2-i]-w1[3-i][2-i]*p[3-i]\n",
    "    DeltaS_F=np.log(w1[0][1]*w1[1][3]*w1[3][0])-np.log(w1[0][3]*w1[3][1]*w1[1][0])\n",
    "    DeltaS_B=np.log(w1[1][2]*w1[2][3]*w1[3][1])-np.log(w1[1][3]*w1[3][2]*w1[2][1])\n",
    "    print('Affinities')\n",
    "    print([DeltaS_F, DeltaS_B])\n",
    "    P=CGJ12*DeltaS_F+CGJ23*DeltaS_B\n",
    "    print(P)\n",
    "    term1=(CGJF_plus+CGJF_minus+CGJD_plus+CGJD_minus)*(DeltaS_F/time)*(DeltaS_F)\n",
    "    term2=(CGJB_plus+CGJB_minus+CGJD_plus+CGJD_minus)*(DeltaS_B/time)*(DeltaS_B)\n",
    "    var=term1+term2\n",
    "    print(var)\n",
    "    return P, var\n",
    "\n",
    "#Geschwindikgeit \n",
    "def stat_veloCG(time, wcg, pcg):\n",
    "    i=1\n",
    "    print('mean and variance of velocity')\n",
    "    velo=wcg[2-i][4-i]*pcg[2-i]-wcg[4-i][2-i]*pcg[4-i]\n",
    "    print(velo)\n",
    "    var_velo=(CGJF_plus+CGJF_minus+CGJB_plus+CGJB_minus)/time\n",
    "    print(var_velo)\n",
    "    return velo, var_velo\n"
   ]
  },
  {
   "cell_type": "markdown",
   "metadata": {},
   "source": [
    "### Simulation parameter"
   ]
  },
  {
   "cell_type": "code",
   "execution_count": 8,
   "metadata": {},
   "outputs": [],
   "source": [
    "runtime=1200.0\n",
    "Trajectories=10000\n",
    "NoBINS=10"
   ]
  },
  {
   "cell_type": "code",
   "execution_count": 9,
   "metadata": {},
   "outputs": [],
   "source": [
    "def pdf_data(matrix, time1, trajectories, NoBins, observable, node1, node2):\n",
    "    start_time = time.time()\n",
    "    if observable=='entropy':\n",
    "        vec=PDF.pdf_entropy(Matrix=matrix, start=0, time=time1, runs=trajectories)\n",
    "        print(\"--- %s seconds ---\" % (time.time() - start_time))\n",
    "    elif observable=='flux':\n",
    "        start_time = time.time()\n",
    "        vec=PDF.pdf_flux(Matrix=matrix, start=0, time=time1, runs=trajectories, state1=node1, state2=node2)\n",
    "        print(\"--- %s seconds ---\" % (time.time() - start_time))\n",
    "    elif observable=='transition':\n",
    "        start_time = time.time()\n",
    "        [totalcounts, counts12, counts21, netcounts]=PDF.pdf_transition(Matrix=matrix, start=0, time=time1, runs=trajectories, state1=node1, state2=node2)\n",
    "        vec=netcounts\n",
    "        print(\"--- %s seconds ---\" % (time.time() - start_time))\n",
    "\n",
    "        \n",
    "    vec=np.array(vec)\n",
    "    MAX=np.max(vec)\n",
    "    MIN=np.min(vec)\n",
    "    print('maximum and minimum value')\n",
    "    print([MAX, MIN])\n",
    "    q75, q25 = np.percentile(vec, [75 ,25])\n",
    "    iqr = q75 - q25\n",
    "    n=len(vec)\n",
    "    h=2*iqr/pow(n,0.3333333)\n",
    "    NoBINS=int((MAX-MIN)/h)\n",
    "    if observable=='transition' and time1 < 121:\n",
    "        NoBINS=int(0.3*NoBINS)\n",
    "        print('NoBins modified')\n",
    "    print('Number of bins with Freedman-Diaconis rule')\n",
    "    print(NoBINS)\n",
    "    print('mean and variance')\n",
    "    mean=np.mean(vec)\n",
    "    var=np.var(vec)\n",
    "    print([np.mean(vec), np.var(vec)])\n",
    "    print\n",
    "    [hist, bin_edges]=np.histogram(vec, density=True, bins=NoBINS)\n",
    "    \n",
    "    string2=path+'/'+str(len(matrix))+'-state-model_'+observable+'_time_'+str(int(time1))+'.dat'\n",
    "    fh2=open(string2, 'w')\n",
    "    for element in vec:\n",
    "        fh2.write(str(element)+'\\n')\n",
    "    fh2.close()\n",
    "    \n",
    "    return [bin_edges[:-1], hist, mean, var]\n",
    "\n",
    "\n",
    "def Sturge_Rule(matrix, observable, time1, anzahl):\n",
    "    string2=path+'/'+str(len(matrix))+'-state-model_'+observable+'_time_'+str(int(time1))+'.dat'\n",
    "    vec = np.loadtxt(string2)\n",
    "    #vec=np.array(vec)\n",
    "    MAX=np.max(vec)\n",
    "    MIN=np.min(vec)\n",
    "    print('maximum and minimum value')\n",
    "    print([MAX, MIN])\n",
    "    \n",
    "    q75, q25 = np.percentile(vec, [75 ,25])\n",
    "    iqr = q75 - q25\n",
    "    n=len(vec)\n",
    "    h=2*iqr/pow(n,0.3333333)\n",
    "    NoBINS=int((MAX-MIN)/h)\n",
    "    print('Number of bins with Freedman-Diaconis rule')\n",
    "    print(NoBINS)\n",
    "    \n",
    "    #Sturge's law\n",
    "    print('numer of trajctories')\n",
    "    print(len(vec))\n",
    "    NoBINS=int(np.log2(len(vec)))+1\n",
    "    print('Number of bins with Sturge rule')\n",
    "    print(NoBINS)\n",
    "    \n",
    "    NoBINS=anzahl\n",
    "    \n",
    "    \n",
    "    print('mean and variance')\n",
    "    mean=np.mean(vec)\n",
    "    var=np.var(vec)\n",
    "    print([np.mean(vec), np.var(vec)])\n",
    "    print\n",
    "    [hist, bin_edges]=np.histogram(vec, density=True, bins=NoBINS)\n",
    "    \n",
    "    return [bin_edges[:-1], hist, mean, var]"
   ]
  },
  {
   "cell_type": "markdown",
   "metadata": {},
   "source": [
    "# Diese Zeile startet die Entropie Simulation neu"
   ]
  },
  {
   "cell_type": "code",
   "execution_count": 11,
   "metadata": {},
   "outputs": [
    {
     "name": "stdout",
     "output_type": "stream",
     "text": [
      "--- 302.6558654308319 seconds ---\n",
      "maximum and minimum value\n",
      "[36.58553395227224, 30.798259823913074]\n",
      "Number of bins with Freedman-Diaconis rule\n",
      "56\n",
      "mean and variance\n",
      "[33.41011699627175, 0.6671091303079363]\n",
      "--- 291.10432720184326 seconds ---\n",
      "maximum and minimum value\n",
      "[36.32569634501578, 30.25365918030606]\n",
      "Number of bins with Freedman-Diaconis rule\n",
      "59\n",
      "mean and variance\n",
      "[33.39885629621531, 0.6647202003499]\n",
      "--- 214.46798515319824 seconds ---\n",
      "maximum and minimum value\n",
      "[30.24082545975924, 24.92285304841565]\n",
      "Number of bins with Freedman-Diaconis rule\n",
      "61\n",
      "mean and variance\n",
      "[27.655188757446187, 0.4796360339035009]\n"
     ]
    }
   ],
   "source": [
    "#Entropy in the original model\n",
    "[x1,y1, P_m1, P_v1]=pdf_data(matrix=w, time1=runtime, trajectories=Trajectories, NoBins=NoBINS, observable='entropy', node1=2-1, node2=5-1)\n",
    "\n",
    "#Entropy in step 1\n",
    "[x1,y1, P_m1cg, P_v1cg]=pdf_data(matrix=wcg1, time1=runtime, trajectories=Trajectories, NoBins=NoBINS, observable='entropy', node1=2-1, node2=5-1)\n",
    "\n",
    "#Entropy in step 2\n",
    "[x1,y1, P_m1cg2, P_v1cg2]=pdf_data(matrix=wcg2, time1=runtime, trajectories=Trajectories, NoBins=NoBINS, observable='entropy', node1=2-1, node2=5-1)\n"
   ]
  },
  {
   "cell_type": "markdown",
   "metadata": {},
   "source": [
    "# Auswertung Entropie-Simulation"
   ]
  },
  {
   "cell_type": "code",
   "execution_count": 12,
   "metadata": {},
   "outputs": [
    {
     "name": "stdout",
     "output_type": "stream",
     "text": [
      "maximum and minimum value\n",
      "[36.58553395227224, 30.798259823913074]\n",
      "Number of bins with Freedman-Diaconis rule\n",
      "56\n",
      "numer of trajctories\n",
      "10000\n",
      "Number of bins with Sturge rule\n",
      "14\n",
      "mean and variance\n",
      "[33.41011699627175, 0.6671091303079363]\n",
      "maximum and minimum value\n",
      "[36.32569634501578, 30.25365918030606]\n",
      "Number of bins with Freedman-Diaconis rule\n",
      "59\n",
      "numer of trajctories\n",
      "10000\n",
      "Number of bins with Sturge rule\n",
      "14\n",
      "mean and variance\n",
      "[33.39885629621531, 0.6647202003499]\n",
      "maximum and minimum value\n",
      "[30.24082545975924, 24.92285304841565]\n",
      "Number of bins with Freedman-Diaconis rule\n",
      "61\n",
      "numer of trajctories\n",
      "10000\n",
      "Number of bins with Sturge rule\n",
      "14\n",
      "mean and variance\n",
      "[27.655188757446187, 0.4796360339035009]\n"
     ]
    }
   ],
   "source": [
    "bli=20\n",
    "[x_P,y_P, mean_P, var_P]=Sturge_Rule(matrix=w, observable='entropy', time1=runtime, anzahl=bli)\n",
    "[x_Pcg1,y_Pcg1, mean_P1, var_P1]=Sturge_Rule(matrix=wcg1, observable='entropy', time1=runtime, anzahl=bli)\n",
    "[x_Pcg2,y_Pcg2, mean_P2, var_P2]=Sturge_Rule(matrix=wcg2, observable='entropy', time1=runtime, anzahl=bli)"
   ]
  },
  {
   "cell_type": "markdown",
   "metadata": {},
   "source": [
    "#### Check simualted and analytic mean and variance"
   ]
  },
  {
   "cell_type": "code",
   "execution_count": 14,
   "metadata": {},
   "outputs": [
    {
     "name": "stdout",
     "output_type": "stream",
     "text": [
      "Affinities\n",
      "[24.9378739353686, 28.937873935368604]\n",
      "33.40381628184575\n",
      "0.6943328996579683\n",
      "\n",
      "simualted mean and variance [33.41011699627175, 0.6671091303079363]\n",
      "analytical mean and variance [33.40381628184575, 0.6943328996579683]\n"
     ]
    }
   ],
   "source": [
    "# simulated\n",
    "P_sim = mean_P\n",
    "Pvar_sim = var_P\n",
    "#analytical\n",
    "P_ana, Pvar_ana = stat_P(time=runtime, w1=w1, p=p)\n",
    "\n",
    "print()\n",
    "print('simualted mean and variance ' + str([P_sim, Pvar_sim]))\n",
    "print('analytical mean and variance ' + str([P_ana, Pvar_ana]))"
   ]
  },
  {
   "cell_type": "code",
   "execution_count": 16,
   "metadata": {},
   "outputs": [
    {
     "name": "stdout",
     "output_type": "stream",
     "text": [
      "Affinities\n",
      "[24.9378739353686, 28.937873935368604]\n",
      "33.40381628184575\n",
      "0.6943328996579683\n",
      "Affinities\n",
      "[20.65431541384264, 24.653861433125797]\n",
      "27.66713336561126\n",
      "0.4763320469294357\n"
     ]
    },
    {
     "data": {
      "image/png": "[encoded data removed]",
      "text/plain": [
       "<Figure size 432x288 with 1 Axes>"
      ]
     },
     "metadata": {
      "needs_background": "light"
     },
     "output_type": "display_data"
    }
   ],
   "source": [
    "f_size = 18\n",
    "fig, ax = plt.subplots()\n",
    "ax.set_xlabel('Entropy production [$k_B$/$s$]', fontsize=f_size)\n",
    "ax.set_ylabel('pdf', fontsize=f_size)\n",
    "acc=4\n",
    "ax.plot(x_P, y_P, '-ok', color='black', label='6-state model')\n",
    "ax.plot(x_Pcg1, y_Pcg1, '-sk', color='blue', label='5-state model')\n",
    "ax.plot(x_Pcg2, y_Pcg2,'-^k', color='red', label='4-state model')\n",
    "ax.tick_params(axis='both', labelsize=f_size)\n",
    "P_mean, P_var=stat_P(time=1200.0, w1=w1, p=p)\n",
    "test_x=np.arange(1.4, 2.8, 0.001)\n",
    "test_y=gaussian(x=test_x, mu=P_mean, sigma=np.sqrt(P_var))\n",
    "P_meanCG, P_varCG=stat_PCG(time=1200.0, w1=wcg2, p=pcg2)\n",
    "test_x=np.arange(1.4, 2.8, 0.001)\n",
    "test_y=gaussian(x=test_x, mu=P_meanCG, sigma=np.sqrt(P_varCG))\n",
    "fig.tight_layout()\n",
    "fig.savefig(path+'/Simulation_entropy_prod_force=1ps.eps', bbox_inches = \"tight\")\n",
    "plt.show()"
   ]
  },
  {
   "cell_type": "markdown",
   "metadata": {},
   "source": [
    "# Simulation Transition counts -> flux or velocity"
   ]
  },
  {
   "cell_type": "code",
   "execution_count": 17,
   "metadata": {},
   "outputs": [
    {
     "name": "stdout",
     "output_type": "stream",
     "text": [
      "--- 229.97918272018433 seconds ---\n",
      "maximum and minimum value\n",
      "[1.4683333333333333, 1.2116666666666667]\n",
      "Number of bins with Freedman-Diaconis rule\n",
      "62\n",
      "mean and variance\n",
      "[1.3364188333333333, 0.0010913094119722221]\n",
      "--- 240.15001773834229 seconds ---\n",
      "maximum and minimum value\n",
      "[1.4608333333333334, 1.2191666666666667]\n",
      "Number of bins with Freedman-Diaconis rule\n",
      "58\n",
      "mean and variance\n",
      "[1.337318, 0.0010594627093333333]\n",
      "[[0.00000000e+00 1.34936379e+00 0.00000000e+00 6.15423086e-04]\n",
      " [7.55081338e+01 0.00000000e+00 1.90008325e+02 1.64643491e+05]\n",
      " [0.00000000e+00 6.15700527e-04 0.00000000e+00 1.34935938e+00]\n",
      " [1.90008325e+02 9.73247992e-01 4.83252056e-11 0.00000000e+00]]\n",
      "1.3361344681319685\n",
      "--- 174.22990369796753 seconds ---\n",
      "maximum and minimum value\n",
      "[1.4691666666666667, 1.215]\n",
      "Number of bins with Freedman-Diaconis rule\n",
      "60\n",
      "mean and variance\n",
      "[1.3365525, 0.0011167847437500002]\n"
     ]
    }
   ],
   "source": [
    "#with transition counts\n",
    "#velocity in original model\n",
    "[x1,y1, m1, v1]=pdf_data(matrix=w, time1=runtime, trajectories=Trajectories, NoBins=NoBINS, observable='transition', node1=2-1, node2=5-1)\n",
    "\n",
    "#Velocity in step 1\n",
    "[x1,y1, m1cg, v1cg]=pdf_data(matrix=wcg1, time1=runtime, trajectories=Trajectories, NoBins=NoBINS, observable='transition', node1=2-1, node2=4-1)\n",
    "\n",
    "#Velocity in step 2\n",
    "print(wcg2)\n",
    "print(wcg2[2-1][4-1]*pcg2[2-1]-wcg2[4-1][2-1]*pcg2[4-1])\n",
    "[x1,y1, m1cg2, v1cg2]=pdf_data(matrix=wcg2, time1=runtime, trajectories=Trajectories, NoBins=NoBINS, observable='transition', node1=2-1, node2=4-1)\n"
   ]
  },
  {
   "cell_type": "markdown",
   "metadata": {},
   "source": [
    "# Auwertung Simulation Velocity"
   ]
  },
  {
   "cell_type": "code",
   "execution_count": 18,
   "metadata": {},
   "outputs": [
    {
     "name": "stdout",
     "output_type": "stream",
     "text": [
      "maximum and minimum value\n",
      "[1.4683333333333333, 1.2116666666666667]\n",
      "Number of bins with Freedman-Diaconis rule\n",
      "62\n",
      "numer of trajctories\n",
      "10000\n",
      "Number of bins with Sturge rule\n",
      "14\n",
      "mean and variance\n",
      "[1.3364188333333333, 0.0010913094119722221]\n",
      "maximum and minimum value\n",
      "[1.4608333333333334, 1.2191666666666667]\n",
      "Number of bins with Freedman-Diaconis rule\n",
      "58\n",
      "numer of trajctories\n",
      "10000\n",
      "Number of bins with Sturge rule\n",
      "14\n",
      "mean and variance\n",
      "[1.337318, 0.0010594627093333333]\n",
      "maximum and minimum value\n",
      "[1.4691666666666667, 1.215]\n",
      "Number of bins with Freedman-Diaconis rule\n",
      "60\n",
      "numer of trajctories\n",
      "10000\n",
      "Number of bins with Sturge rule\n",
      "14\n",
      "mean and variance\n",
      "[1.3365525, 0.0011167847437500002]\n"
     ]
    }
   ],
   "source": [
    "bli=15\n",
    "[x_v,y_v, mean, var]=Sturge_Rule(matrix=w, observable='transition', time1=runtime, anzahl=bli)\n",
    "[x_vcg1,y_vcg1, mean, var]=Sturge_Rule(matrix=wcg1, observable='transition', time1=runtime, anzahl=bli)\n",
    "[x_vcg2,y_vcg2, mean, var]=Sturge_Rule(matrix=wcg2, observable='transition', time1=runtime, anzahl=bli)"
   ]
  },
  {
   "cell_type": "code",
   "execution_count": 19,
   "metadata": {},
   "outputs": [
    {
     "name": "stderr",
     "output_type": "stream",
     "text": [
      "The PostScript backend does not support transparency; partially transparent artists will be rendered opaque.\n",
      "The PostScript backend does not support transparency; partially transparent artists will be rendered opaque.\n"
     ]
    },
    {
     "name": "stdout",
     "output_type": "stream",
     "text": [
      "mean and variance of velocity\n",
      "1.3361344681319687\n",
      "0.001113458553917419\n",
      "0.0011248702577201551\n",
      "Difference between variances calculated with cycles and transition fluxes\n",
      "-1.141170380273616e-05\n"
     ]
    },
    {
     "data": {
      "image/png": "[encoded data removed]",
      "text/plain": [
       "<Figure size 432x288 with 1 Axes>"
      ]
     },
     "metadata": {
      "needs_background": "light"
     },
     "output_type": "display_data"
    }
   ],
   "source": [
    "velo=w[1][4]*p[1]-w[4][1]*p[4]\n",
    "fig, ax = plt.subplots()\n",
    "ax.set_xlabel('Velocity [l/s] obtained by counting transitions per simulation time')\n",
    "ax.set_xlabel('Velocity [nm/s]', fontsize=f_size)\n",
    "ax.set_ylabel('pdf', fontsize=f_size)\n",
    "l=8\n",
    "ax.plot(l*np.array(x_v), y_v, '-ok', color='black', label='6-state model')\n",
    "ax.plot(l*np.array(x_vcg1), y_vcg1, '-sk', color='blue', label='5-state model')\n",
    "ax.plot(l*np.array(x_vcg2), y_vcg2, '-^k', color='red', label='4-state model')\n",
    "\n",
    "#plot mean and variance\n",
    "velo, var_velo=stat_velo(time=runtime, w1=w1, p=p)\n",
    "sigma_velo=np.sqrt(var_velo)\n",
    "mean=[velo, velo]\n",
    "var2=[velo-sigma_velo, velo+sigma_velo]\n",
    "ymax=y1=gaussian(x=velo, mu=velo, sigma=sigma_velo)\n",
    "y_var1=[y1,y1]\n",
    "y2=gaussian(x=velo+sigma_velo, mu=velo, sigma=sigma_velo)\n",
    "y_var2=[y2, y2]\n",
    "test_x=np.arange(0.08, 0.22, 0.001)\n",
    "test_y=gaussian(x=test_x, mu=velo, sigma=sigma_velo)\n",
    "test_x=np.arange(0.04, 0.32, 0.001)\n",
    "#test_y=gaussian(x=test_x, mu=velo, sigma=np.sqrt(var/runtime1))\n",
    "#ax.plot(test_x, test_y, color='blue')\n",
    "ax.tick_params(axis='both', labelsize=f_size)\n",
    "fig.tight_layout()\n",
    "ax.legend(prop={'size': 14})\n",
    "fig.savefig(path+'/2nd_Simulation_transition_counts_velocity_force=1pN.eps',bbox_inches='tight')\n",
    "plt.show()"
   ]
  },
  {
   "cell_type": "markdown",
   "metadata": {},
   "source": [
    "### analytic quantities"
   ]
  },
  {
   "cell_type": "code",
   "execution_count": 20,
   "metadata": {},
   "outputs": [
    {
     "name": "stdout",
     "output_type": "stream",
     "text": [
      "Affinities\n",
      "[24.9378739353686, 28.937873935368604]\n",
      "33.40381628184575\n",
      "0.6943328996579683\n",
      "mean and variance of velocity\n",
      "1.3361344681319687\n",
      "0.001113458553917419\n",
      "0.0011248702577201551\n",
      "Difference between variances calculated with cycles and transition fluxes\n",
      "-1.141170380273616e-05\n",
      "\n",
      "original model\n",
      "mean velocity 1.3361344681319687\n",
      "std velocity 0.033368526397151835\n"
     ]
    }
   ],
   "source": [
    "P6, P_var6 = stat_P(time=runtime, w1=w1, p=p)\n",
    "v6, v_var6 = stat_velo(time=runtime, w1=w1, p=p)\n",
    "print()\n",
    "print('original model')\n",
    "print('mean velocity '+str(v6))\n",
    "print('std velocity '+str(np.sqrt(v_var6)))\n"
   ]
  },
  {
   "cell_type": "markdown",
   "metadata": {},
   "source": [
    "### 4-state model analytic"
   ]
  },
  {
   "cell_type": "code",
   "execution_count": 21,
   "metadata": {},
   "outputs": [
    {
     "name": "stdout",
     "output_type": "stream",
     "text": [
      "Affinities\n",
      "[20.65431541384264, 24.653861433125797]\n",
      "27.66713336561126\n",
      "0.4763320469294357\n",
      "\n",
      "mean and variance of velocity\n",
      "1.3361344681319685\n",
      "0.0011134585562676657\n",
      "\n",
      "4-state model\n",
      "mean velocity 1.3361344681319685\n",
      "std velocity 0.03336852643236836\n"
     ]
    }
   ],
   "source": [
    "CG2_P, CG2_P_var = stat_PCG(time=runtime, w1=wcg2, p=pcg2)\n",
    "\n",
    "print()\n",
    "CG2_v, CG2_v_var = stat_veloCG(time=runtime, wcg=wcg2, pcg=pcg2)\n",
    "print()\n",
    "print('4-state model')\n",
    "print('mean velocity '+str(CG2_v))\n",
    "print('std velocity '+str(np.sqrt(CG2_v_var)))"
   ]
  },
  {
   "cell_type": "code",
   "execution_count": 22,
   "metadata": {},
   "outputs": [
    {
     "name": "stdout",
     "output_type": "stream",
     "text": [
      "variances\n",
      "0.001113458553917419\n",
      "0.0011134585562676657\n",
      "-2.110762654857279e-09\n",
      "\n",
      "standard dev\n",
      "0.033368526397151835\n",
      "0.03336852643236836\n",
      "-1.0553814610253934e-09\n"
     ]
    }
   ],
   "source": [
    "print('variances')\n",
    "print(v_var6)\n",
    "print(CG2_v_var)\n",
    "diff_var_v=(v_var6-CG2_v_var)/v_var6\n",
    "print(diff_var_v)\n",
    "\n",
    "print()\n",
    "print('standard dev')\n",
    "std6=np.sqrt(v_var6)\n",
    "CG2_std=np.sqrt(CG2_v_var)\n",
    "print(std6)\n",
    "print(CG2_std)\n",
    "diff_std=(std6-CG2_std)/std6\n",
    "print(diff_std)"
   ]
  },
  {
   "cell_type": "code",
   "execution_count": 23,
   "metadata": {},
   "outputs": [
    {
     "name": "stdout",
     "output_type": "stream",
     "text": [
      "rel difference of mean entropy production\n",
      "0.17173735084132444\n"
     ]
    }
   ],
   "source": [
    "print('rel difference of mean entropy production')\n",
    "diff_P=(P6-CG2_P)/P6\n",
    "print(diff_P)"
   ]
  },
  {
   "cell_type": "markdown",
   "metadata": {},
   "source": [
    "###  5-state model\n"
   ]
  },
  {
   "cell_type": "code",
   "execution_count": 26,
   "metadata": {},
   "outputs": [
    {
     "name": "stdout",
     "output_type": "stream",
     "text": [
      "P1=dS/dt= -1.2871648191747909e-15\n",
      "P2(copling to set of thermodynamic forces)= 33.39717956551469\n",
      "entropy production in 5-state model 33.39717956551469\n"
     ]
    }
   ],
   "source": [
    "CG1_P = analytic.entropyProduction(matrix=wcg1, p=pcg1)\n",
    "print('entropy production in 5-state model '+str(CG1_P))"
   ]
  },
  {
   "cell_type": "code",
   "execution_count": 27,
   "metadata": {},
   "outputs": [
    {
     "name": "stdout",
     "output_type": "stream",
     "text": [
      "rel difference of mean entropy production between 6-state and 5-state\n",
      "0.00019868138044651173\n"
     ]
    }
   ],
   "source": [
    "print('rel difference of mean entropy production between 6-state and 5-state')\n",
    "diff_P2=(P6-CG1_P)/P6\n",
    "print(diff_P2)"
   ]
  },
  {
   "cell_type": "code",
   "execution_count": null,
   "metadata": {},
   "outputs": [],
   "source": []
  },
  {
   "cell_type": "code",
   "execution_count": null,
   "metadata": {},
   "outputs": [],
   "source": []
  },
  {
   "cell_type": "code",
   "execution_count": null,
   "metadata": {},
   "outputs": [],
   "source": []
  }
 ],
 "metadata": {
  "kernelspec": {
   "display_name": "Python 3",
   "language": "python",
   "name": "python3"
  },
  "language_info": {
   "codemirror_mode": {
    "name": "ipython",
    "version": 3
   },
   "file_extension": ".py",
   "mimetype": "text/x-python",
   "name": "python",
   "nbconvert_exporter": "python",
   "pygments_lexer": "ipython3",
   "version": "3.8.5"
  }
 },
 "nbformat": 4,
 "nbformat_minor": 4
}
